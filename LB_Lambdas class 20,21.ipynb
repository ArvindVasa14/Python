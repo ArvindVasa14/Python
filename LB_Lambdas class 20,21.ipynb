{
 "cells": [
  {
   "cell_type": "markdown",
   "id": "f9c988b1",
   "metadata": {},
   "source": [
    "# Lambda function are called the annonymous function\n",
    "The expression result is the return value of lambda function\n",
    "\n",
    "No need to write the return statement explicitly\n",
    "\n",
    "syntax\n",
    "\n",
    "lambda paraml, param2, param3... :e`xpr\n",
    "a lambda function which gives square of a number"
   ]
  },
  {
   "cell_type": "code",
   "execution_count": 9,
   "id": "22909852",
   "metadata": {},
   "outputs": [
    {
     "data": {
      "text/plain": [
       "16"
      ]
     },
     "execution_count": 9,
     "metadata": {},
     "output_type": "execute_result"
    }
   ],
   "source": [
    "# Define a lambda function which gives square Of a number\n",
    "(lambda x:x**2 )(4)"
   ]
  },
  {
   "cell_type": "code",
   "execution_count": 15,
   "id": "d70c78a7",
   "metadata": {},
   "outputs": [
    {
     "data": {
      "text/plain": [
       "'gmail'"
      ]
     },
     "execution_count": 15,
     "metadata": {},
     "output_type": "execute_result"
    }
   ],
   "source": [
    "email= \"arvindvasa1122@gmail.com\"\n",
    "(lambda mail: mail[15:20])(email)"
   ]
  },
  {
   "cell_type": "code",
   "execution_count": 2,
   "id": "a58d78d8",
   "metadata": {},
   "outputs": [
    {
     "data": {
      "text/plain": [
       "6"
      ]
     },
     "execution_count": 2,
     "metadata": {},
     "output_type": "execute_result"
    }
   ],
   "source": [
    "add_nums= lambda a,b:a+b\n",
    "add_nums(2,4)"
   ]
  },
  {
   "cell_type": "code",
   "execution_count": 7,
   "id": "e877147c",
   "metadata": {},
   "outputs": [
    {
     "data": {
      "text/plain": [
       "35"
      ]
     },
     "execution_count": 7,
     "metadata": {},
     "output_type": "execute_result"
    }
   ],
   "source": [
    "(lambda a,b,c: a+b+c)(10,12,13)"
   ]
  },
  {
   "cell_type": "code",
   "execution_count": 8,
   "id": "89a4c110",
   "metadata": {},
   "outputs": [],
   "source": [
    "#lambda function can have any num of argumets but only one expression"
   ]
  },
  {
   "cell_type": "markdown",
   "id": "90c82aea",
   "metadata": {},
   "source": [
    "• A lambda function is an anonymous function (function without a name).\n",
    "\n",
    "• Lambda functions can have any number of arguments but only one expression. The expression is evaluated and returned.\n",
    "\n",
    "• We use lambda functions when we require a nameless function for a short period of time."
   ]
  },
  {
   "cell_type": "code",
   "execution_count": 14,
   "id": "4b29b751",
   "metadata": {},
   "outputs": [
    {
     "data": {
      "text/plain": [
       "10"
      ]
     },
     "execution_count": 14,
     "metadata": {},
     "output_type": "execute_result"
    }
   ],
   "source": [
    "#  using *args\n",
    "(lambda *args: sum(args))(1,2,3,4) # we can give any no of parameters for *args irrespective of length"
   ]
  },
  {
   "cell_type": "code",
   "execution_count": 17,
   "id": "0d217b4a",
   "metadata": {},
   "outputs": [
    {
     "data": {
      "text/plain": [
       "60"
      ]
     },
     "execution_count": 17,
     "metadata": {},
     "output_type": "execute_result"
    }
   ],
   "source": [
    "# using **kwargs\n",
    "(lambda **kwargs:sum(kwargs.values()))(a=10,b=20,c=30) # for kwargs we have to provide a dictionary\n",
    "#  **kwargs = keyword arguments => dictionary"
   ]
  },
  {
   "cell_type": "code",
   "execution_count": 19,
   "id": "3c322456",
   "metadata": {},
   "outputs": [
    {
     "data": {
      "text/plain": [
       "16"
      ]
     },
     "execution_count": 19,
     "metadata": {},
     "output_type": "execute_result"
    }
   ],
   "source": [
    "def getLambda(): # the function is returning a lambda \n",
    "    return lambda a:a**2\n",
    "getLambda()(4)"
   ]
  },
  {
   "cell_type": "markdown",
   "id": "eac5ed61",
   "metadata": {},
   "source": [
    "## Lambdas\n",
    "\n",
    "functions can be used to return lambda functions "
   ]
  },
  {
   "cell_type": "markdown",
   "id": "f13d4437",
   "metadata": {},
   "source": [
    "calling different function from lambda"
   ]
  },
  {
   "cell_type": "code",
   "execution_count": 23,
   "id": "6ef84b72",
   "metadata": {},
   "outputs": [
    {
     "name": "stdout",
     "output_type": "stream",
     "text": [
      "120\n",
      "6000\n"
     ]
    }
   ],
   "source": [
    "def product(nums):\n",
    "    tot=1\n",
    "    for i in nums:\n",
    "        tot*=i\n",
    "    return tot\n",
    "\n",
    "print((lambda *args: product(args))(5,4,3,2,1))  # sending argumets as a list using *args\n",
    "print((lambda **kwargs: product(kwargs.values()))(a=10,b=20,c=30)) # using **kwargs"
   ]
  },
  {
   "cell_type": "code",
   "execution_count": 28,
   "id": "7d2ab3be",
   "metadata": {},
   "outputs": [
    {
     "data": {
      "text/plain": [
       "dict_items([('name', 'arvind'), ('home', 'eluru'), ('age', 22), ('salary', 33810), ('company', 'virtusa')])"
      ]
     },
     "execution_count": 28,
     "metadata": {},
     "output_type": "execute_result"
    }
   ],
   "source": [
    "mydict= {\"name\":\"arvind\",\"home\":\"eluru\",\"age\":22,\"salary\":33810}\n",
    "mydict[\"company\"]=\"virtusa\"\n",
    "mydict.items() # dict_name.items() return a items tuple"
   ]
  },
  {
   "cell_type": "code",
   "execution_count": 36,
   "id": "2b581ee1",
   "metadata": {},
   "outputs": [
    {
     "name": "stdout",
     "output_type": "stream",
     "text": [
      "1\n",
      "2\n",
      "3\n",
      "(4, 5, 6, 7, 8, 9)\n",
      "{'x': 90, 'y': 400}\n"
     ]
    }
   ],
   "source": [
    "def argsCheckFunc(a,b,c,*args,**kwargs):\n",
    "    print(a)\n",
    "    print(b)\n",
    "    print(c)\n",
    "    print(args)\n",
    "    print(kwargs)\n",
    "\n",
    "argsCheckFunc(1,2,3,4,5,6,7,8,9,x=90,y=400)"
   ]
  },
  {
   "cell_type": "markdown",
   "id": "6b44f131",
   "metadata": {},
   "source": [
    "### Filter and Map"
   ]
  },
  {
   "cell_type": "code",
   "execution_count": 45,
   "id": "5e0b7634",
   "metadata": {},
   "outputs": [
    {
     "data": {
      "text/plain": [
       "[4, 16, 36, 64]"
      ]
     },
     "execution_count": 45,
     "metadata": {},
     "output_type": "execute_result"
    }
   ],
   "source": [
    "lst= [1,2,3,4,5,6,7,8,9]\n",
    "lst2 = list(filter(lambda x:x%2==0, lst))\n",
    "list(map(lambda x:x**2,lst2))"
   ]
  },
  {
   "cell_type": "code",
   "execution_count": 48,
   "id": "04f4e202",
   "metadata": {},
   "outputs": [
    {
     "data": {
      "text/plain": [
       "[1, 27, 125, 343, 729]"
      ]
     },
     "execution_count": 48,
     "metadata": {},
     "output_type": "execute_result"
    }
   ],
   "source": [
    "list(map(lambda x:x**3,list(filter(lambda x:x%2==1,lst)))) # filters odd ele from the list and cubes the values"
   ]
  },
  {
   "cell_type": "markdown",
   "id": "91bcf3a9",
   "metadata": {},
   "source": [
    "first argument of the filter is a function or lambda and a list"
   ]
  },
  {
   "cell_type": "code",
   "execution_count": 50,
   "id": "dd716e6f",
   "metadata": {},
   "outputs": [
    {
     "name": "stdout",
     "output_type": "stream",
     "text": [
      "1 2 3 5 7 11 13 17 19 23 29 31 37 41 43 47 53 59 61 67 71 73 79 83 89 97 "
     ]
    }
   ],
   "source": [
    "def isPrime(n):\n",
    "    for i in range(2,n):\n",
    "        if n%i==0:\n",
    "            return False\n",
    "    return True\n",
    "\n",
    "checkList=list(range(1,101))\n",
    "primeList= list(filter(isPrime,checkList))  \n",
    "for i in primeList:\n",
    "    print(i,end=\" \")"
   ]
  },
  {
   "cell_type": "code",
   "execution_count": 51,
   "id": "aabed045",
   "metadata": {},
   "outputs": [
    {
     "data": {
      "text/plain": [
       "[2, 3, 5, 7, 11, 13, 17, 19, 23, 29, 31, 37]"
      ]
     },
     "execution_count": 51,
     "metadata": {},
     "output_type": "execute_result"
    }
   ],
   "source": [
    "prime_list= [i for i in range (2, 40) if all (i % j for j in range (2, i) )]\n",
    "prime_list"
   ]
  },
  {
   "cell_type": "markdown",
   "id": "796ec818",
   "metadata": {},
   "source": [
    "### Reduce\n",
    "\n",
    "reduce takes two arguments function/lambda and iterable\n",
    "\n",
    "reduces the iterable into single value"
   ]
  },
  {
   "cell_type": "code",
   "execution_count": 10,
   "id": "706760cb",
   "metadata": {},
   "outputs": [
    {
     "name": "stdout",
     "output_type": "stream",
     "text": [
      "120\n",
      "arvind\n"
     ]
    }
   ],
   "source": [
    "from functools import reduce\n",
    "\n",
    "lst= [1,2,3,4,5]\n",
    "print(reduce(lambda a,b:a*b,lst))\n",
    "print(reduce(lambda a,b:a+b,\"arvind\"))"
   ]
  },
  {
   "cell_type": "code",
   "execution_count": 11,
   "id": "dcba6ed4",
   "metadata": {},
   "outputs": [
    {
     "data": {
      "text/plain": [
       "153"
      ]
     },
     "execution_count": 11,
     "metadata": {},
     "output_type": "execute_result"
    }
   ],
   "source": [
    "reduce(lambda a,b:a+b,list(map(lambda x:x**3,list(filter(lambda x:x%2==1,lst)))))"
   ]
  },
  {
   "cell_type": "markdown",
   "id": "2e88fb37",
   "metadata": {},
   "source": [
    "module = .py file contains code functions class\n",
    "\n",
    "package= collection of modules\n",
    "\n",
    "library= collextion of packages"
   ]
  },
  {
   "cell_type": "code",
   "execution_count": null,
   "id": "0dcd2776",
   "metadata": {},
   "outputs": [],
   "source": []
  }
 ],
 "metadata": {
  "kernelspec": {
   "display_name": "Python 3 (ipykernel)",
   "language": "python",
   "name": "python3"
  },
  "language_info": {
   "codemirror_mode": {
    "name": "ipython",
    "version": 3
   },
   "file_extension": ".py",
   "mimetype": "text/x-python",
   "name": "python",
   "nbconvert_exporter": "python",
   "pygments_lexer": "ipython3",
   "version": "3.10.9"
  }
 },
 "nbformat": 4,
 "nbformat_minor": 5
}
