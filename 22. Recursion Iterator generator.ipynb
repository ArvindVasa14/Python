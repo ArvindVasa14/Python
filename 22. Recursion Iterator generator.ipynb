{
 "cells": [
  {
   "cell_type": "markdown",
   "id": "93f6e638",
   "metadata": {},
   "source": [
    "### recap of filter, map"
   ]
  },
  {
   "cell_type": "code",
   "execution_count": 10,
   "id": "edcc264a",
   "metadata": {},
   "outputs": [
    {
     "data": {
      "text/plain": [
       "['arvind@learnbay.com', 'yash@learnbay.com', 'murthy@learnbay.com']"
      ]
     },
     "execution_count": 10,
     "metadata": {},
     "output_type": "execute_result"
    }
   ],
   "source": [
    "mails= [\"arvind@learnbay.com\",\"yash@learnbay.com\",\"nithin@yahoo.com\",\"karthik@gamil.com\",\"murthy@learnbay.com\"]\n",
    "\n",
    "list(filter(lambda mail:mail.split('@')[1].split('.')[0]==\"learnbay\",mails))"
   ]
  },
  {
   "cell_type": "code",
   "execution_count": 17,
   "id": "a40fe23b",
   "metadata": {},
   "outputs": [
    {
     "data": {
      "text/plain": [
       "['arvind@learnbay.com', 'murthy@learnbay.com']"
      ]
     },
     "execution_count": 17,
     "metadata": {},
     "output_type": "execute_result"
    }
   ],
   "source": [
    " list(filter(lambda mail:mail.split('@')[1].split('.')[0]==\"learnbay\" and len(mail.split('@')[0])>4, mails))"
   ]
  },
  {
   "cell_type": "code",
   "execution_count": 6,
   "id": "e5646048",
   "metadata": {},
   "outputs": [
    {
     "data": {
      "text/plain": [
       "'learnbay'"
      ]
     },
     "execution_count": 6,
     "metadata": {},
     "output_type": "execute_result"
    }
   ],
   "source": [
    "mail= \"arvind@learnbay.co\"\n",
    "mail.split('@')[1].split('.')[0]"
   ]
  },
  {
   "cell_type": "code",
   "execution_count": 16,
   "id": "4207fa18",
   "metadata": {},
   "outputs": [
    {
     "data": {
      "text/plain": [
       "['arvind', 'yash', 'nithin', 'karthik', 'murthy']"
      ]
     },
     "execution_count": 16,
     "metadata": {},
     "output_type": "execute_result"
    }
   ],
   "source": [
    "list(map(lambda mail:mail.split('@')[0],mails))"
   ]
  },
  {
   "cell_type": "code",
   "execution_count": 21,
   "id": "e7263910",
   "metadata": {},
   "outputs": [
    {
     "data": {
      "text/plain": [
       "['arvind', 'murthy']"
      ]
     },
     "execution_count": 21,
     "metadata": {},
     "output_type": "execute_result"
    }
   ],
   "source": [
    "list(map(lambda mail:mail.split('@')[0],list(filter(lambda mail:mail.split('@')[1].split('.')[0]==\"learnbay\" and \n",
    "len(mail.split('@')[0])>4,mails))))"
   ]
  },
  {
   "cell_type": "markdown",
   "id": "1b34e20d",
   "metadata": {},
   "source": [
    "## Recursion\n",
    "\n",
    "conditions for a recursions:\n",
    "\n",
    "1. Base Case\n",
    "2. changing the state and move towards base case\n",
    "3. It should call itself recursively"
   ]
  },
  {
   "cell_type": "code",
   "execution_count": 22,
   "id": "ff6b9a21",
   "metadata": {},
   "outputs": [
    {
     "data": {
      "text/plain": [
       "120"
      ]
     },
     "execution_count": 22,
     "metadata": {},
     "output_type": "execute_result"
    }
   ],
   "source": [
    "def factorial(num):\n",
    "    if num==1:\n",
    "        return 1\n",
    "    else:\n",
    "        return num*factorial(num-1)\n",
    "    \n",
    "factorial(5)"
   ]
  },
  {
   "cell_type": "code",
   "execution_count": 23,
   "id": "2134cfd0",
   "metadata": {},
   "outputs": [
    {
     "data": {
      "text/plain": [
       "5040"
      ]
     },
     "execution_count": 23,
     "metadata": {},
     "output_type": "execute_result"
    }
   ],
   "source": [
    "factorial(7)"
   ]
  },
  {
   "cell_type": "markdown",
   "id": "6793a0be",
   "metadata": {},
   "source": [
    "## Iterator"
   ]
  },
  {
   "cell_type": "code",
   "execution_count": 29,
   "id": "4bc52407",
   "metadata": {},
   "outputs": [
    {
     "name": "stdout",
     "output_type": "stream",
     "text": [
      "(0, 'A')\n",
      "(1, 'r')\n",
      "(2, 'v')\n",
      "(3, 'i')\n",
      "(4, 'n')\n",
      "(5, 'd')\n"
     ]
    }
   ],
   "source": [
    "my_iter= enumerate(\"Arvind\")\n",
    "print(next(my_iter))\n",
    "print(next(my_iter))\n",
    "print(next(my_iter))\n",
    "print(next(my_iter))\n",
    "print(next(my_iter))\n",
    "print(next(my_iter))"
   ]
  },
  {
   "cell_type": "markdown",
   "id": "d8119b49",
   "metadata": {},
   "source": [
    "## Iterator and Iterable\n",
    "\n",
    "Sequence- String, tuple, list, bytes, bytearray\n",
    "\n",
    "Iterable - Objects which implements iter funtion\n",
    "\n",
    "            String, list, tuple , dictionary, set, frozenset, range, filter, map, zip, enumerate\n",
    "            \n",
    "Iterator - Objects which implement iter and next function \n",
    "        \n",
    "            filter, map, zip, enumerate\n",
    "            \n",
    "            # Lazy Evaluation — Everytime we call the next function then iterator evaluates t and returns the value\n",
    "            \n",
    " All the iterators are iterable, but not vice versa"
   ]
  },
  {
   "cell_type": "code",
   "execution_count": 33,
   "id": "6a9aa652",
   "metadata": {},
   "outputs": [
    {
     "name": "stdout",
     "output_type": "stream",
     "text": [
      "1\n",
      "2\n",
      "3\n",
      "4\n"
     ]
    }
   ],
   "source": [
    "lst= [1,2,3,4,5,6,7]\n",
    "lst_iter= iter(lst)  # first we should convert iterable object to iterator object\n",
    "print(next(lst_iter))\n",
    "print(next(lst_iter))\n",
    "print(next(lst_iter))\n",
    "print(next(lst_iter))"
   ]
  },
  {
   "cell_type": "code",
   "execution_count": 36,
   "id": "eebd20df",
   "metadata": {},
   "outputs": [
    {
     "name": "stdout",
     "output_type": "stream",
     "text": [
      "0 1\n",
      "1 2\n",
      "2 3\n",
      "3 4\n",
      "4 5\n",
      "5 6\n",
      "6 7\n"
     ]
    }
   ],
   "source": [
    "for index,value in enumerate(lst):\n",
    "    print(index,value)"
   ]
  },
  {
   "cell_type": "markdown",
   "id": "5e3467fd",
   "metadata": {},
   "source": [
    "### List comprehensions"
   ]
  },
  {
   "cell_type": "code",
   "execution_count": 40,
   "id": "d3df8f75",
   "metadata": {},
   "outputs": [
    {
     "data": {
      "text/plain": [
       "['arvind@learnbay.com', 'murthy@learnbay.com']"
      ]
     },
     "execution_count": 40,
     "metadata": {},
     "output_type": "execute_result"
    }
   ],
   "source": [
    "[mail for mail in mails if mail.split('@')[1].split('.')[0]==\"learnbay\" and len(mail.split('@')[0])>4]"
   ]
  },
  {
   "cell_type": "code",
   "execution_count": 42,
   "id": "6b2adb7a",
   "metadata": {},
   "outputs": [
    {
     "data": {
      "text/plain": [
       "[(0, 'a'), (1, 'r'), (2, 'v'), (3, 'i'), (4, 'n'), (5, 'd')]"
      ]
     },
     "execution_count": 42,
     "metadata": {},
     "output_type": "execute_result"
    }
   ],
   "source": [
    "list(enumerate(\"arvind\"))"
   ]
  },
  {
   "cell_type": "markdown",
   "id": "592e154c",
   "metadata": {},
   "source": [
    "### Generator\n",
    "\n",
    "ways to create generator objects:\n",
    "\n",
    "1. using tuple comprehension\n",
    "2. using function definition syntax"
   ]
  },
  {
   "cell_type": "code",
   "execution_count": 44,
   "id": "277ffc6a",
   "metadata": {},
   "outputs": [
    {
     "data": {
      "text/plain": [
       "['p', 'y', 't', 'h', 'o', 'n']"
      ]
     },
     "execution_count": 44,
     "metadata": {},
     "output_type": "execute_result"
    }
   ],
   "source": [
    "# using tuple comprehension\n",
    "a= (i for i in \"python\")\n",
    "list(a)"
   ]
  },
  {
   "cell_type": "code",
   "execution_count": 51,
   "id": "61155097",
   "metadata": {},
   "outputs": [
    {
     "name": "stdout",
     "output_type": "stream",
     "text": [
      "('p', 0)\n",
      "('y', 1)\n",
      "('t', 2)\n",
      "('h', 3)\n",
      "('o', 4)\n",
      "('n', 5)\n"
     ]
    }
   ],
   "source": [
    "#using function definition that is \"YIELD\" keyword automatically converts the function to generator\n",
    "def my_gen():\n",
    "    j=0\n",
    "    for i in \"python\":\n",
    "        yield (i,j)\n",
    "        j+=1\n",
    "g= my_gen()\n",
    "# print(g)\n",
    "\n",
    "print(next(g))\n",
    "print(next(g))\n",
    "print(next(g))\n",
    "print(next(g))\n",
    "print(next(g))\n",
    "print(next(g))"
   ]
  },
  {
   "cell_type": "markdown",
   "id": "be44d76e",
   "metadata": {},
   "source": [
    "To Be learned:\n",
    "\n",
    "enumerate , zip, yield"
   ]
  },
  {
   "cell_type": "code",
   "execution_count": 58,
   "id": "be5a6d13",
   "metadata": {},
   "outputs": [
    {
     "name": "stdout",
     "output_type": "stream",
     "text": [
      "2\n",
      "3\n",
      "5\n",
      "8\n",
      "13\n",
      "21\n",
      "34\n",
      "55\n"
     ]
    }
   ],
   "source": [
    "def fibGen():\n",
    "    a=1\n",
    "    b=1\n",
    "    for i in range(10):\n",
    "        yield a+b\n",
    "        t=a\n",
    "        a=b\n",
    "        b=t+a\n",
    "    \n",
    "g= fibGen()\n",
    "print(next(g))\n",
    "print(next(g))\n",
    "print(next(g))\n",
    "print(next(g))\n",
    "print(next(g))\n",
    "print(next(g))\n",
    "print(next(g))\n",
    "print(next(g))"
   ]
  },
  {
   "cell_type": "code",
   "execution_count": null,
   "id": "4c39e374",
   "metadata": {},
   "outputs": [],
   "source": []
  }
 ],
 "metadata": {
  "kernelspec": {
   "display_name": "Python 3 (ipykernel)",
   "language": "python",
   "name": "python3"
  },
  "language_info": {
   "codemirror_mode": {
    "name": "ipython",
    "version": 3
   },
   "file_extension": ".py",
   "mimetype": "text/x-python",
   "name": "python",
   "nbconvert_exporter": "python",
   "pygments_lexer": "ipython3",
   "version": "3.10.9"
  }
 },
 "nbformat": 4,
 "nbformat_minor": 5
}
