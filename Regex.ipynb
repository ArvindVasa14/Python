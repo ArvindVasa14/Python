{
 "cells": [
  {
   "cell_type": "code",
   "execution_count": 3,
   "id": "6cabfbb4",
   "metadata": {},
   "outputs": [
    {
     "name": "stdout",
     "output_type": "stream",
     "text": [
      "hello\n",
      "bro\n"
     ]
    }
   ],
   "source": [
    "print(\"hello\\nbro\")"
   ]
  },
  {
   "cell_type": "code",
   "execution_count": 32,
   "id": "46262213",
   "metadata": {},
   "outputs": [
    {
     "name": "stdout",
     "output_type": "stream",
     "text": [
      "hello\\\\nbro\n"
     ]
    }
   ],
   "source": [
    "print(r\"hello\\\\nbro\")"
   ]
  },
  {
   "cell_type": "code",
   "execution_count": 1,
   "id": "e6fdd1d1",
   "metadata": {},
   "outputs": [
    {
     "data": {
      "text/plain": [
       "'1Arvind123'"
      ]
     },
     "execution_count": 1,
     "metadata": {},
     "output_type": "execute_result"
    }
   ],
   "source": [
    "import re\n",
    "\n",
    "res= re.match(r'\\d[A-Za-z0-9]{9}',\"1Arvind123 2Balu34\")\n",
    "res.group()"
   ]
  },
  {
   "cell_type": "code",
   "execution_count": 28,
   "id": "3a53db09",
   "metadata": {},
   "outputs": [
    {
     "data": {
      "text/plain": [
       "<re.Match object; span=(0, 10), match='1Arvind123'>"
      ]
     },
     "execution_count": 28,
     "metadata": {},
     "output_type": "execute_result"
    }
   ],
   "source": [
    "re.match(r'\\d[ ]{9}',\"1Arvind123 1Arvind123 2Balu34333\")"
   ]
  },
  {
   "cell_type": "code",
   "execution_count": 27,
   "id": "240de82d",
   "metadata": {},
   "outputs": [
    {
     "data": {
      "text/plain": [
       "<re.Match object; span=(0, 10), match='1Arvind123'>"
      ]
     },
     "execution_count": 27,
     "metadata": {},
     "output_type": "execute_result"
    }
   ],
   "source": [
    "re.search(r'\\d[A-Za-z0-9]{9}',\"1Arvind123 1Arvind123 2Balu34333\")"
   ]
  },
  {
   "cell_type": "code",
   "execution_count": 31,
   "id": "4712fe2d",
   "metadata": {},
   "outputs": [
    {
     "data": {
      "text/plain": [
       "['1Arvind123', '1Arvind123', '2Balu34333']"
      ]
     },
     "execution_count": 31,
     "metadata": {},
     "output_type": "execute_result"
    }
   ],
   "source": [
    "re.findall(r'\\d[\\w]{9}',\"1Arvind123 1Arvind123 2Balu34333\")"
   ]
  },
  {
   "cell_type": "code",
   "execution_count": 26,
   "id": "5575c8ba",
   "metadata": {},
   "outputs": [
    {
     "data": {
      "text/plain": [
       "[]"
      ]
     },
     "execution_count": 26,
     "metadata": {},
     "output_type": "execute_result"
    }
   ],
   "source": [
    "re.findall('a[^a-c]{2}le','abple')"
   ]
  },
  {
   "cell_type": "code",
   "execution_count": 33,
   "id": "8fe133fa",
   "metadata": {},
   "outputs": [
    {
     "data": {
      "text/plain": [
       "['ABC', '', '112', '']"
      ]
     },
     "execution_count": 33,
     "metadata": {},
     "output_type": "execute_result"
    }
   ],
   "source": [
    "re.findall(r'[A-Z0-9]*',\"ABC 112\")\n",
    "#  pattern followed by * checks for 0 or more preceding pattern mattchers, empty string is also considerd\n",
    "#  whereas pattern followed by + checks for 1 or more preceding mattchers"
   ]
  },
  {
   "cell_type": "code",
   "execution_count": 34,
   "id": "b543c6b8",
   "metadata": {},
   "outputs": [
    {
     "data": {
      "text/plain": [
       "['ABC', '112']"
      ]
     },
     "execution_count": 34,
     "metadata": {},
     "output_type": "execute_result"
    }
   ],
   "source": [
    "re.findall(r'[A-Z0-9]+',\"ABC 112\")"
   ]
  },
  {
   "cell_type": "code",
   "execution_count": 35,
   "id": "d132848b",
   "metadata": {},
   "outputs": [
    {
     "data": {
      "text/plain": [
       "['cat', 'cat']"
      ]
     },
     "execution_count": 35,
     "metadata": {},
     "output_type": "execute_result"
    }
   ],
   "source": [
    "content='cat catherine catholic wildcat cat copycat uncatachable '\n",
    "re.findall(r'\\bcat\\b',content)"
   ]
  },
  {
   "cell_type": "code",
   "execution_count": 46,
   "id": "a296ce86",
   "metadata": {},
   "outputs": [
    {
     "name": "stdout",
     "output_type": "stream",
     "text": [
      "<re.Match object; span=(0, 3), match='cat'>\n",
      "<re.Match object; span=(4, 7), match='cat'>\n",
      "<re.Match object; span=(14, 17), match='cat'>\n",
      "<re.Match object; span=(27, 30), match='cat'>\n",
      "<re.Match object; span=(31, 34), match='cat'>\n",
      "<re.Match object; span=(39, 42), match='cat'>\n",
      "<re.Match object; span=(45, 48), match='cat'>\n"
     ]
    }
   ],
   "source": [
    "itr= re.finditer(r'cat',content)\n",
    "print(next(itr))\n",
    "print(next(itr))\n",
    "print(next(itr))\n",
    "print(next(itr))\n",
    "print(next(itr))\n",
    "print(next(itr))\n",
    "print(next(itr))\n"
   ]
  },
  {
   "cell_type": "code",
   "execution_count": 51,
   "id": "ab3bdd9d",
   "metadata": {},
   "outputs": [
    {
     "data": {
      "text/plain": [
       "['A1', 'B2']"
      ]
     },
     "execution_count": 51,
     "metadata": {},
     "output_type": "execute_result"
    }
   ],
   "source": [
    "re.findall('[A-Z]+\\d',\"A1 B2 3\")"
   ]
  },
  {
   "cell_type": "code",
   "execution_count": 7,
   "id": "7113580f",
   "metadata": {},
   "outputs": [
    {
     "data": {
      "text/plain": [
       "['com']"
      ]
     },
     "execution_count": 7,
     "metadata": {},
     "output_type": "execute_result"
    }
   ],
   "source": [
    "re.findall(r'[A-Za-z0-9]+.*@[A-Za-z]+\\.(com|org|co|in)',\"arvindvasa1122@gmail.com\")"
   ]
  },
  {
   "cell_type": "code",
   "execution_count": 6,
   "id": "19a0c36d",
   "metadata": {},
   "outputs": [
    {
     "data": {
      "text/plain": [
       "['Mr.Arvind', 'Mr.Balu', 'Mrs.Manga', 'Ms.Srj']"
      ]
     },
     "execution_count": 6,
     "metadata": {},
     "output_type": "execute_result"
    }
   ],
   "source": [
    "import re\n",
    "cont= '''Mr.Arvind\n",
    "Mr.Balu\n",
    "Mrs.Manga\n",
    "Ms.Srj\n",
    "Hello\n",
    "Summer\n",
    "'''\n",
    "\n",
    "re.findall(r'M[sr].+',cont)\n"
   ]
  },
  {
   "cell_type": "code",
   "execution_count": 11,
   "id": "1d918f80",
   "metadata": {},
   "outputs": [
    {
     "data": {
      "text/plain": [
       "['arvindvasa', 'vaaasa', 'vasa', 'basa']"
      ]
     },
     "execution_count": 11,
     "metadata": {},
     "output_type": "execute_result"
    }
   ],
   "source": [
    "s= 'I am arvindvasa vaaasa vasa basa'\n",
    "re.findall(r'\\b[va,b]\\w{2,}a\\b',s)"
   ]
  },
  {
   "cell_type": "code",
   "execution_count": null,
   "id": "f9241e8f",
   "metadata": {},
   "outputs": [],
   "source": []
  }
 ],
 "metadata": {
  "kernelspec": {
   "display_name": "Python 3 (ipykernel)",
   "language": "python",
   "name": "python3"
  },
  "language_info": {
   "codemirror_mode": {
    "name": "ipython",
    "version": 3
   },
   "file_extension": ".py",
   "mimetype": "text/x-python",
   "name": "python",
   "nbconvert_exporter": "python",
   "pygments_lexer": "ipython3",
   "version": "3.10.9"
  }
 },
 "nbformat": 4,
 "nbformat_minor": 5
}
