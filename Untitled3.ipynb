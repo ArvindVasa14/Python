{
 "cells": [
  {
   "cell_type": "code",
   "execution_count": 4,
   "id": "52807cac",
   "metadata": {},
   "outputs": [],
   "source": [
    "def isPallindrome(num):\n",
    "    return str(num)== str(num)[::-1]"
   ]
  },
  {
   "cell_type": "code",
   "execution_count": 5,
   "id": "0be346b5",
   "metadata": {},
   "outputs": [
    {
     "data": {
      "text/plain": [
       "True"
      ]
     },
     "execution_count": 5,
     "metadata": {},
     "output_type": "execute_result"
    }
   ],
   "source": [
    "isPallindrome(505)"
   ]
  },
  {
   "cell_type": "code",
   "execution_count": null,
   "id": "d5cb66ca",
   "metadata": {},
   "outputs": [],
   "source": [
    "def func(a,b,c, *args, **kwargs)"
   ]
  },
  {
   "cell_type": "code",
   "execution_count": 6,
   "id": "94a224cc",
   "metadata": {},
   "outputs": [],
   "source": [
    "def factorial(n):\n",
    "    if n==0 or n==1:\n",
    "        return 1\n",
    "    else:\n",
    "        return n * factorial(n-1)"
   ]
  },
  {
   "cell_type": "code",
   "execution_count": 8,
   "id": "35652efe",
   "metadata": {},
   "outputs": [
    {
     "name": "stdout",
     "output_type": "stream",
     "text": [
      "Enter number5\n"
     ]
    },
    {
     "data": {
      "text/plain": [
       "120"
      ]
     },
     "execution_count": 8,
     "metadata": {},
     "output_type": "execute_result"
    }
   ],
   "source": [
    "factorial(int(input(\"Enter number\")))"
   ]
  },
  {
   "cell_type": "code",
   "execution_count": 9,
   "id": "84446543",
   "metadata": {},
   "outputs": [],
   "source": [
    "def fibinocci(n):\n",
    "    a= 0\n",
    "    b= 1\n",
    "    print(a, end=\" \")\n",
    "    print(b, end=\" \")\n",
    "    for i in range(n-2):\n",
    "        c= a+b\n",
    "        a= b\n",
    "        b=c\n",
    "        print(c ,end=\" \")"
   ]
  },
  {
   "cell_type": "code",
   "execution_count": 11,
   "id": "97ae436b",
   "metadata": {},
   "outputs": [
    {
     "name": "stdout",
     "output_type": "stream",
     "text": [
      "0 1 1 2 3 5 8 13 21 34 "
     ]
    }
   ],
   "source": [
    "fibinocci(20)"
   ]
  },
  {
   "cell_type": "code",
   "execution_count": null,
   "id": "a936208c",
   "metadata": {},
   "outputs": [],
   "source": []
  },
  {
   "cell_type": "code",
   "execution_count": null,
   "id": "a1382426",
   "metadata": {},
   "outputs": [],
   "source": []
  }
 ],
 "metadata": {
  "kernelspec": {
   "display_name": "Python 3 (ipykernel)",
   "language": "python",
   "name": "python3"
  },
  "language_info": {
   "codemirror_mode": {
    "name": "ipython",
    "version": 3
   },
   "file_extension": ".py",
   "mimetype": "text/x-python",
   "name": "python",
   "nbconvert_exporter": "python",
   "pygments_lexer": "ipython3",
   "version": "3.10.9"
  }
 },
 "nbformat": 4,
 "nbformat_minor": 5
}
