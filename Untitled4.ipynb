{
 "cells": [
  {
   "cell_type": "code",
   "execution_count": 3,
   "id": "6bba3c88",
   "metadata": {},
   "outputs": [
    {
     "data": {
      "text/plain": [
       "[(1, 4), (2, 3), (3, 2), (4, 1)]"
      ]
     },
     "execution_count": 3,
     "metadata": {},
     "output_type": "execute_result"
    }
   ],
   "source": [
    "l= [1,2,3,4,5]\n",
    "# o= [(1,4), (2,3)]\n",
    "o=[]\n",
    "for i in l:\n",
    "    for j in l:\n",
    "        if i+j==5:\n",
    "            o.append((i,j))\n",
    "o"
   ]
  },
  {
   "cell_type": "code",
   "execution_count": 5,
   "id": "c9620768",
   "metadata": {},
   "outputs": [],
   "source": [
    "import pandas as pd\n",
    "import numpy as np"
   ]
  },
  {
   "cell_type": "code",
   "execution_count": 7,
   "id": "00f0401c",
   "metadata": {},
   "outputs": [],
   "source": [
    "df1= pd.DataFrame({'A':[1,2,3,4,5]})\n",
    "df2= pd.DataFrame({'A':[1,2,3,5,7]})"
   ]
  },
  {
   "cell_type": "code",
   "execution_count": 17,
   "id": "f83ea4ee",
   "metadata": {},
   "outputs": [
    {
     "name": "stdout",
     "output_type": "stream",
     "text": [
      "1\n",
      "2\n",
      "3\n",
      "5\n"
     ]
    }
   ],
   "source": [
    "for i in df1['A']:\n",
    "    l2= list(df2['A'])\n",
    "    if i in l2:\n",
    "        print(i)"
   ]
  },
  {
   "cell_type": "code",
   "execution_count": 22,
   "id": "4e67b6a8",
   "metadata": {},
   "outputs": [
    {
     "name": "stdout",
     "output_type": "stream",
     "text": [
      "4\n",
      "7\n"
     ]
    }
   ],
   "source": [
    "for i in df1['A']:\n",
    "    l2= list(df2['A'])\n",
    "    if i not in l2:\n",
    "        print(i)\n",
    "for i in df2['A']:\n",
    "    l2= list(df1['A'])\n",
    "    if i not in l2:\n",
    "        print(i)"
   ]
  },
  {
   "cell_type": "code",
   "execution_count": null,
   "id": "86de23eb",
   "metadata": {},
   "outputs": [],
   "source": []
  }
 ],
 "metadata": {
  "kernelspec": {
   "display_name": "Python 3 (ipykernel)",
   "language": "python",
   "name": "python3"
  },
  "language_info": {
   "codemirror_mode": {
    "name": "ipython",
    "version": 3
   },
   "file_extension": ".py",
   "mimetype": "text/x-python",
   "name": "python",
   "nbconvert_exporter": "python",
   "pygments_lexer": "ipython3",
   "version": "3.10.9"
  }
 },
 "nbformat": 4,
 "nbformat_minor": 5
}
