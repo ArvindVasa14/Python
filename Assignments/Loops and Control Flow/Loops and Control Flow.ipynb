{
 "cells": [
  {
   "cell_type": "code",
   "execution_count": 5,
   "id": "a5eac726",
   "metadata": {},
   "outputs": [
    {
     "name": "stdout",
     "output_type": "stream",
     "text": [
      "11\n",
      "outside the range\n"
     ]
    }
   ],
   "source": [
    "numlst= ['zero','one','two','three','four','five','six','seven','eight','nine']\n",
    "num1= int(input())\n",
    "if num1 >= 0 and num1<10:\n",
    "    print(numlst[num1])\n",
    "else:\n",
    "    print(\"outside the range\")"
   ]
  },
  {
   "cell_type": "code",
   "execution_count": 9,
   "id": "1d58c83e",
   "metadata": {},
   "outputs": [
    {
     "name": "stdout",
     "output_type": "stream",
     "text": [
      "1\n",
      "1\n",
      "* To add enter 1\n",
      "\n",
      " * to subtract enter 2\n",
      "\n",
      " * To multiply enter 3\n",
      "\n",
      " * To divide enter 4\n",
      "\n",
      " * To divide and find quotient enter 5\n",
      "\n",
      " * To divide and find remainder enter 6\n",
      "\n",
      " * To divide and find num1 to the power of num2 enter 7\n",
      "\n",
      " * To Come out of the program enter 8\n",
      "1\n",
      "2\n"
     ]
    }
   ],
   "source": [
    "import math\n",
    "\n",
    "def switch(ch):\n",
    "    if ch ==1:\n",
    "        return a+b\n",
    "    elif ch ==2:\n",
    "        return a-b\n",
    "    elif ch ==3:\n",
    "        return a*b\n",
    "    elif ch ==4:\n",
    "        return a/b\n",
    "    elif ch ==6:\n",
    "        return a%b\n",
    "    elif ch ==7:\n",
    "        return math.pow(a,b)\n",
    "\n",
    "a= int(input())\n",
    "b= int(input())\n",
    "print('''* To add enter 1\\n\n",
    " * to subtract enter 2\\n\n",
    " * To multiply enter 3\\n\n",
    " * To divide enter 4\\n\n",
    " * To divide and find quotient enter 5\\n\n",
    " * To divide and find remainder enter 6\\n\n",
    " * To divide and find num1 to the power of num2 enter 7\\n\n",
    " * To Come out of the program enter 8''')\n",
    "ch= int(input())\n",
    "\n",
    "print(switch(ch))\n",
    "\n"
   ]
  },
  {
   "cell_type": "code",
   "execution_count": 10,
   "id": "9e3507db",
   "metadata": {},
   "outputs": [
    {
     "name": "stdout",
     "output_type": "stream",
     "text": [
      "Enter a year: 2000\n",
      "2000 is a leap year.\n"
     ]
    }
   ],
   "source": [
    "def is_leap_year(year):\n",
    "    if year % 4 == 0:\n",
    "        if year % 100 == 0:\n",
    "            if year % 400 == 0:\n",
    "                return True\n",
    "            else:\n",
    "                return False\n",
    "        else:\n",
    "            return True\n",
    "    else:\n",
    "        return False\n",
    "\n",
    "year = int(input(\"Enter a year: \"))\n",
    "if is_leap_year(year):\n",
    "    print(year, \"is a leap year.\")\n",
    "else:\n",
    "    print(year, \"is not a leap year.\")\n"
   ]
  },
  {
   "cell_type": "code",
   "execution_count": 11,
   "id": "2fbc19e7",
   "metadata": {},
   "outputs": [
    {
     "name": "stdout",
     "output_type": "stream",
     "text": [
      "Enter a number: 12\n",
      "12 is an even number.\n"
     ]
    }
   ],
   "source": [
    "number = int(input(\"Enter a number: \"))\n",
    "\n",
    "if number % 2 == 0:\n",
    "    print(number, \"is an even number.\")\n",
    "else:\n",
    "    print(number, \"is an odd number.\")\n"
   ]
  },
  {
   "cell_type": "code",
   "execution_count": 13,
   "id": "e07d7e5b",
   "metadata": {},
   "outputs": [
    {
     "name": "stdout",
     "output_type": "stream",
     "text": [
      "Enter the first number: 1\n",
      "Enter the second number: 2\n",
      "num1 is smaller than num2\n"
     ]
    }
   ],
   "source": [
    "num1 = float(input(\"Enter the first number: \"))\n",
    "num2 = float(input(\"Enter the second number: \"))\n",
    "\n",
    "if num1 > num2:\n",
    "    print(\"num1 is greater than num2\")\n",
    "elif num1 < num2:\n",
    "    print(\"num1 is smaller than num2\")\n",
    "else:\n",
    "    print(\"num1 is equal to num2\")\n"
   ]
  },
  {
   "cell_type": "code",
   "execution_count": 14,
   "id": "51c0b2fc",
   "metadata": {},
   "outputs": [
    {
     "name": "stdout",
     "output_type": "stream",
     "text": [
      "Enter the first number: 12\n",
      "Enter the second number: 22\n",
      "Enter the third number: 34\n",
      "num3 is greater than num1 and num2\n"
     ]
    }
   ],
   "source": [
    "num1 = float(input(\"Enter the first number: \"))\n",
    "num2 = float(input(\"Enter the second number: \"))\n",
    "num3 = float(input(\"Enter the third number: \"))\n",
    "\n",
    "result = \"num1 is greater than num2 and num3\" if num1 > num2 and num1 > num3 else \"num2 is greater than num1 and num3\" if num2 > num1 and num2 > num3 else \"num3 is greater than num1 and num2\"\n",
    "print(result)\n"
   ]
  },
  {
   "cell_type": "code",
   "execution_count": 17,
   "id": "e50d186b",
   "metadata": {},
   "outputs": [
    {
     "name": "stdout",
     "output_type": "stream",
     "text": [
      "11\n"
     ]
    }
   ],
   "source": [
    "s=\"arvind vasa\"\n",
    "for i,c in enumerate(s):\n",
    "    pass\n",
    "print(i+1)"
   ]
  },
  {
   "cell_type": "code",
   "execution_count": 18,
   "id": "c2a4c667",
   "metadata": {},
   "outputs": [
    {
     "name": "stdout",
     "output_type": "stream",
     "text": [
      "9\n"
     ]
    }
   ],
   "source": [
    "s=  'peter piper picked a peck of pickled peppers.\\n'\n",
    "cnt=0\n",
    "for i in s:\n",
    "    if i =='p':\n",
    "        cnt+=1\n",
    "print(cnt)"
   ]
  },
  {
   "cell_type": "code",
   "execution_count": 23,
   "id": "4b54a007",
   "metadata": {},
   "outputs": [
    {
     "name": "stdout",
     "output_type": "stream",
     "text": [
      "0 6 8 12 21 29 37 39 40 "
     ]
    }
   ],
   "source": [
    "s=  'peter piper picked a peck of pickled peppers.\\n'\n",
    "for i in range(len(s)):\n",
    "    if s[i] =='p':\n",
    "        print(i,end=\" \")"
   ]
  },
  {
   "cell_type": "code",
   "execution_count": 25,
   "id": "3d05a5de",
   "metadata": {},
   "outputs": [
    {
     "data": {
      "text/plain": [
       "['peter', 'piper', 'picked', 'a', 'peck', 'of', 'pickled', 'peppers.']"
      ]
     },
     "execution_count": 25,
     "metadata": {},
     "output_type": "execute_result"
    }
   ],
   "source": [
    "s=  'peter piper picked a peck of pickled peppers.\\n'\n",
    "lst= list(s.split())\n",
    "lst"
   ]
  },
  {
   "cell_type": "code",
   "execution_count": 27,
   "id": "3044320a",
   "metadata": {},
   "outputs": [
    {
     "data": {
      "text/plain": [
       "'peppers. pickled of peck a picked piper peter'"
      ]
     },
     "execution_count": 27,
     "metadata": {},
     "output_type": "execute_result"
    }
   ],
   "source": [
    "' '.join(lst[::-1])"
   ]
  },
  {
   "cell_type": "code",
   "execution_count": 30,
   "id": "08523cc7",
   "metadata": {},
   "outputs": [
    {
     "data": {
      "text/plain": [
       "'.sreppep delkcip fo kcep a dekcip repip retep'"
      ]
     },
     "execution_count": 30,
     "metadata": {},
     "output_type": "execute_result"
    }
   ],
   "source": [
    "' '.join([i[::-1] for i in lst[::-1]])"
   ]
  },
  {
   "cell_type": "code",
   "execution_count": 32,
   "id": "a23604dc",
   "metadata": {},
   "outputs": [
    {
     "data": {
      "text/plain": [
       "'retep repip dekcip a kcep fo delkcip .sreppep'"
      ]
     },
     "execution_count": 32,
     "metadata": {},
     "output_type": "execute_result"
    }
   ],
   "source": [
    "' '.join([i[::-1] for i in lst])"
   ]
  },
  {
   "cell_type": "code",
   "execution_count": 33,
   "id": "e94a4898",
   "metadata": {},
   "outputs": [
    {
     "data": {
      "text/plain": [
       "'Peter Piper Picked A Peck Of Pickled Peppers.\\n'"
      ]
     },
     "execution_count": 33,
     "metadata": {},
     "output_type": "execute_result"
    }
   ],
   "source": [
    "s.title()"
   ]
  },
  {
   "cell_type": "code",
   "execution_count": 35,
   "id": "415d4ebe",
   "metadata": {},
   "outputs": [
    {
     "name": "stdout",
     "output_type": "stream",
     "text": [
      "29\n"
     ]
    }
   ],
   "source": [
    "print(s.index('pickl'))"
   ]
  },
  {
   "cell_type": "code",
   "execution_count": 36,
   "id": "478e1f75",
   "metadata": {},
   "outputs": [
    {
     "data": {
      "text/plain": [
       "'peter piper picked a pack of pickled peppers.\\n'"
      ]
     },
     "execution_count": 36,
     "metadata": {},
     "output_type": "execute_result"
    }
   ],
   "source": [
    "s.replace('peck','pack')"
   ]
  },
  {
   "cell_type": "code",
   "execution_count": 38,
   "id": "4b0b03b0",
   "metadata": {},
   "outputs": [
    {
     "data": {
      "text/plain": [
       "'peter piper picked a peck of pickled peppers.\\n'"
      ]
     },
     "execution_count": 38,
     "metadata": {},
     "output_type": "execute_result"
    }
   ],
   "source": [
    "s=  'peter piper picked a peck of pickled peppers.\\n'\n",
    "s"
   ]
  },
  {
   "cell_type": "code",
   "execution_count": 40,
   "id": "c47035c6",
   "metadata": {},
   "outputs": [
    {
     "data": {
      "text/plain": [
       "'*********************peck*********************'"
      ]
     },
     "execution_count": 40,
     "metadata": {},
     "output_type": "execute_result"
    }
   ],
   "source": [
    "s.index('peck')*'*'+ 'peck'+ (len(s)-(s.index('peck')+4))*'*'"
   ]
  },
  {
   "cell_type": "code",
   "execution_count": 43,
   "id": "41e0fe1f",
   "metadata": {},
   "outputs": [
    {
     "data": {
      "text/plain": [
       "['This', ' Python class']"
      ]
     },
     "execution_count": 43,
     "metadata": {},
     "output_type": "execute_result"
    }
   ],
   "source": [
    "s= 'This is Python class'\n",
    "s.split(' is')"
   ]
  },
  {
   "cell_type": "code",
   "execution_count": null,
   "id": "01726459",
   "metadata": {},
   "outputs": [],
   "source": []
  }
 ],
 "metadata": {
  "kernelspec": {
   "display_name": "Python 3 (ipykernel)",
   "language": "python",
   "name": "python3"
  },
  "language_info": {
   "codemirror_mode": {
    "name": "ipython",
    "version": 3
   },
   "file_extension": ".py",
   "mimetype": "text/x-python",
   "name": "python",
   "nbconvert_exporter": "python",
   "pygments_lexer": "ipython3",
   "version": "3.10.9"
  }
 },
 "nbformat": 4,
 "nbformat_minor": 5
}
