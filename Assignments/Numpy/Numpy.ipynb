{
 "cells": [
  {
   "cell_type": "code",
   "execution_count": 1,
   "id": "b94e2111",
   "metadata": {},
   "outputs": [],
   "source": [
    "import numpy as np"
   ]
  },
  {
   "cell_type": "code",
   "execution_count": 2,
   "id": "61280e04",
   "metadata": {},
   "outputs": [
    {
     "data": {
      "text/plain": [
       "'1.23.5'"
      ]
     },
     "execution_count": 2,
     "metadata": {},
     "output_type": "execute_result"
    }
   ],
   "source": [
    "np.version.version"
   ]
  },
  {
   "cell_type": "code",
   "execution_count": 3,
   "id": "fe2d396b",
   "metadata": {},
   "outputs": [],
   "source": [
    "arr1= np.array([2,1,3,4,77])"
   ]
  },
  {
   "cell_type": "code",
   "execution_count": 4,
   "id": "7b9573a7",
   "metadata": {},
   "outputs": [
    {
     "data": {
      "text/plain": [
       "array([77,  4,  3,  1,  2])"
      ]
     },
     "execution_count": 4,
     "metadata": {},
     "output_type": "execute_result"
    }
   ],
   "source": [
    "arr1[::-1]"
   ]
  },
  {
   "cell_type": "code",
   "execution_count": 5,
   "id": "3c92e16d",
   "metadata": {},
   "outputs": [
    {
     "name": "stdout",
     "output_type": "stream",
     "text": [
      "[21 34  1  2  3  4  5 10]\n",
      "[21 34  1  2  3  4  5 10]\n"
     ]
    }
   ],
   "source": [
    "def conv2array(inpItr):\n",
    "    return np.array(inpItr)\n",
    "\n",
    "print(conv2array([21,34,1,2,3,4,5,10]))\n",
    "print(conv2array((21,34,1,2,3,4,5,10)))"
   ]
  },
  {
   "cell_type": "code",
   "execution_count": 13,
   "id": "6665629d",
   "metadata": {},
   "outputs": [
    {
     "name": "stdout",
     "output_type": "stream",
     "text": [
      "{11, 12}\n",
      "{32, 12, 45, 44, 55}\n"
     ]
    },
    {
     "data": {
      "text/plain": [
       "{12}"
      ]
     },
     "execution_count": 13,
     "metadata": {},
     "output_type": "execute_result"
    }
   ],
   "source": [
    "arr2= np.array([12,11])\n",
    "arr3= np.array([12,44,32,45,55])\n",
    "print(set(arr2))\n",
    "print(set(arr3))\n",
    "set(arr2).intersection(set(arr3))"
   ]
  },
  {
   "cell_type": "code",
   "execution_count": 16,
   "id": "528e3dc4",
   "metadata": {},
   "outputs": [
    {
     "data": {
      "text/plain": [
       "array([ True, False])"
      ]
     },
     "execution_count": 16,
     "metadata": {},
     "output_type": "execute_result"
    }
   ],
   "source": [
    "arr5= np.array([77,77])\n",
    "arr6= np.array([77,66])\n",
    "arr5==arr6"
   ]
  },
  {
   "cell_type": "code",
   "execution_count": 19,
   "id": "a1908618",
   "metadata": {},
   "outputs": [
    {
     "data": {
      "text/plain": [
       "array([[ 1,  2,  3,  4],\n",
       "       [ 5,  6,  7,  8],\n",
       "       [ 9, 10, 11, 12],\n",
       "       [13, 14, 15, 16],\n",
       "       [17, 18, 19, 20]])"
      ]
     },
     "execution_count": 19,
     "metadata": {},
     "output_type": "execute_result"
    }
   ],
   "source": [
    "arr7= np.arange(1,21)\n",
    "arr7.reshape(5,4)"
   ]
  },
  {
   "cell_type": "code",
   "execution_count": 20,
   "id": "a1ad2217",
   "metadata": {},
   "outputs": [
    {
     "name": "stdout",
     "output_type": "stream",
     "text": [
      "315\n"
     ]
    }
   ],
   "source": [
    "arr8= np.arange(1,101)\n",
    "summ=0\n",
    "for i in arr8:\n",
    "    if i%3==0 and i%5==0:\n",
    "        summ+=i\n",
    "print(summ)"
   ]
  },
  {
   "cell_type": "code",
   "execution_count": 23,
   "id": "0bd8811b",
   "metadata": {},
   "outputs": [
    {
     "data": {
      "text/plain": [
       "[[1, 2, 3, 4, 5], [6, 7, 8, 9, 10], [11, 12, 13, 14, 15], [16, 17, 18, 19, 20]]"
      ]
     },
     "execution_count": 23,
     "metadata": {},
     "output_type": "execute_result"
    }
   ],
   "source": [
    "arr7.reshape(4,5).tolist()"
   ]
  },
  {
   "cell_type": "code",
   "execution_count": 26,
   "id": "0eba8ca7",
   "metadata": {},
   "outputs": [
    {
     "data": {
      "text/plain": [
       "array([ 1,  2,  3,  4,  5,  6,  7,  8,  9, 10, 11, 12, 13, 14, 15, 16, 17,\n",
       "       18, 19, 20, 21, 22, 23, 24, 25])"
      ]
     },
     "execution_count": 26,
     "metadata": {},
     "output_type": "execute_result"
    }
   ],
   "source": [
    "arr7= np.append(arr7,[21,22,23,24,25])\n",
    "arr7"
   ]
  },
  {
   "cell_type": "code",
   "execution_count": 32,
   "id": "369e5f97",
   "metadata": {},
   "outputs": [
    {
     "data": {
      "text/plain": [
       "array([[ 1,  2,  3, 10],\n",
       "       [ 4,  5,  6, 11],\n",
       "       [ 7,  8,  9, 12]])"
      ]
     },
     "execution_count": 32,
     "metadata": {},
     "output_type": "execute_result"
    }
   ],
   "source": [
    "\n",
    "arr = np.array([[1, 2, 3],\n",
    "                [4, 5, 6],\n",
    "                [7, 8, 9]])\n",
    "\n",
    "new_column = np.array([10, 11, 12])\n",
    "\n",
    "new_arr = np.column_stack((arr, new_column))\n",
    "new_arr"
   ]
  },
  {
   "cell_type": "code",
   "execution_count": 34,
   "id": "b5cbd59f",
   "metadata": {},
   "outputs": [
    {
     "name": "stdout",
     "output_type": "stream",
     "text": [
      "Empty\n"
     ]
    }
   ],
   "source": [
    "arr9= np.array([])\n",
    "print(\"Empty\") if len(arr9)==0 else print('Not empty')"
   ]
  },
  {
   "cell_type": "code",
   "execution_count": 39,
   "id": "1908458f",
   "metadata": {},
   "outputs": [
    {
     "data": {
      "text/plain": [
       "array([[12,  3, 11,  3, 19],\n",
       "       [15,  9, 18, 18, 13],\n",
       "       [ 9,  1,  9,  3, 18],\n",
       "       [ 1, 11,  3, 17, 12]])"
      ]
     },
     "execution_count": 39,
     "metadata": {},
     "output_type": "execute_result"
    }
   ],
   "source": [
    "arr10= np.random.randint(1,21,20).reshape(4,5)\n",
    "arr10"
   ]
  },
  {
   "cell_type": "code",
   "execution_count": 40,
   "id": "a19309ea",
   "metadata": {},
   "outputs": [
    {
     "data": {
      "text/plain": [
       "array([12,  3, 11,  3, 19, 15,  9, 18, 18, 13,  9,  1,  9,  3, 18,  1, 11,\n",
       "        3, 17, 12])"
      ]
     },
     "execution_count": 40,
     "metadata": {},
     "output_type": "execute_result"
    }
   ],
   "source": [
    "arr10.ravel()"
   ]
  },
  {
   "cell_type": "code",
   "execution_count": 41,
   "id": "7d4af179",
   "metadata": {},
   "outputs": [],
   "source": [
    "import warnings\n",
    "\n",
    "warnings.filterwarnings(\"ignore\", category=np.VisibleDeprecationWarning)"
   ]
  },
  {
   "cell_type": "code",
   "execution_count": 42,
   "id": "e8bb13f4",
   "metadata": {},
   "outputs": [],
   "source": [
    "warnings.resetwarnings()"
   ]
  },
  {
   "cell_type": "code",
   "execution_count": 50,
   "id": "b42de861",
   "metadata": {},
   "outputs": [
    {
     "name": "stdout",
     "output_type": "stream",
     "text": [
      "[[17  8 20 11  2]\n",
      " [ 4 16  7  2 15]\n",
      " [ 6 17  3 12 18]\n",
      " [18  9  4  8 20]]\n"
     ]
    },
    {
     "data": {
      "text/plain": [
       "array([[ 4, 16,  7,  2, 15],\n",
       "       [17,  8, 20, 11,  2],\n",
       "       [ 6, 17,  3, 12, 18],\n",
       "       [18,  9,  4,  8, 20]])"
      ]
     },
     "execution_count": 50,
     "metadata": {},
     "output_type": "execute_result"
    }
   ],
   "source": [
    "arr10= np.random.randint(1,21,20).reshape(4,5)\n",
    "t= arr10[0].copy()\n",
    "print(arr10)\n",
    "arr10[0]= arr10[1].copy()\n",
    "arr10[1]= t\n",
    "arr10\n"
   ]
  },
  {
   "cell_type": "code",
   "execution_count": 58,
   "id": "b0d73169",
   "metadata": {},
   "outputs": [
    {
     "data": {
      "text/plain": [
       "array([1, 2, 2, 2, 4, 5, 6, 6, 6, 9])"
      ]
     },
     "execution_count": 58,
     "metadata": {},
     "output_type": "execute_result"
    }
   ],
   "source": [
    "import numpy as np\n",
    "\n",
    "vector = np.random.randint(1,10,10)\n",
    "\n",
    "sorted_vector = np.sort(vector)\n",
    "\n",
    "sorted_vector"
   ]
  },
  {
   "cell_type": "code",
   "execution_count": 61,
   "id": "f9024cdd",
   "metadata": {},
   "outputs": [
    {
     "data": {
      "text/plain": [
       "False"
      ]
     },
     "execution_count": 61,
     "metadata": {},
     "output_type": "execute_result"
    }
   ],
   "source": [
    "ar1= np.random.randint(1,10,10)\n",
    "ar2= np.random.randint(1,10,10)\n",
    "\n",
    "np.array_equal(ar1,ar2)"
   ]
  },
  {
   "cell_type": "code",
   "execution_count": 63,
   "id": "3cb6e850",
   "metadata": {},
   "outputs": [
    {
     "name": "stdout",
     "output_type": "stream",
     "text": [
      "[17 13 13  8  6 12 12 12  7 12]\n",
      "[-1 -5  3 -6  2 -2  6 -6  1  6]\n",
      "[72 36 40  7  8 35 27 27 12 27]\n",
      "[0.88888889 0.44444444 1.6        0.14285714 2.         0.71428571\n",
      " 3.         0.33333333 1.33333333 3.        ]\n"
     ]
    }
   ],
   "source": [
    "print(ar1 + ar2)\n",
    "print(ar1 - ar2)\n",
    "print(ar1 * ar2)\n",
    "print(ar1 / ar2)"
   ]
  },
  {
   "cell_type": "code",
   "execution_count": 64,
   "id": "199e5268",
   "metadata": {},
   "outputs": [
    {
     "name": "stdout",
     "output_type": "stream",
     "text": [
      "2023-06-10 2023-06-09 2023-06-11\n"
     ]
    }
   ],
   "source": [
    "import datetime\n",
    "\n",
    "today = datetime.date.today()\n",
    "\n",
    "yesterday = today - datetime.timedelta(days=1)\n",
    "\n",
    "tomorrow = today + datetime.timedelta(days=1)\n",
    "\n",
    "print(today, yesterday, tomorrow)"
   ]
  },
  {
   "cell_type": "code",
   "execution_count": null,
   "id": "32d9fe8a",
   "metadata": {},
   "outputs": [],
   "source": []
  }
 ],
 "metadata": {
  "kernelspec": {
   "display_name": "Python 3 (ipykernel)",
   "language": "python",
   "name": "python3"
  },
  "language_info": {
   "codemirror_mode": {
    "name": "ipython",
    "version": 3
   },
   "file_extension": ".py",
   "mimetype": "text/x-python",
   "name": "python",
   "nbconvert_exporter": "python",
   "pygments_lexer": "ipython3",
   "version": "3.10.9"
  }
 },
 "nbformat": 4,
 "nbformat_minor": 5
}
