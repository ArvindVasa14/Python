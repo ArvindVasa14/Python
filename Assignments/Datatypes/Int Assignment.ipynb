{
 "cells": [
  {
   "cell_type": "code",
   "execution_count": 1,
   "id": "9c59da8c",
   "metadata": {},
   "outputs": [
    {
     "name": "stdout",
     "output_type": "stream",
     "text": [
      "<class 'int'>\n",
      "2270469423344\n"
     ]
    }
   ],
   "source": [
    "i =1 \n",
    "print(type(i))\n",
    "print(id(i))"
   ]
  },
  {
   "cell_type": "code",
   "execution_count": 13,
   "id": "c6afe41d",
   "metadata": {},
   "outputs": [
    {
     "name": "stdout",
     "output_type": "stream",
     "text": [
      "2270469423376 2270469423376\n",
      "2270525897104 2270525897104\n"
     ]
    }
   ],
   "source": [
    "# Q. Take one int value between 0 - 256.\n",
    "# Assign it to two different variables.\n",
    "# Check the id of both the variables. It should come the same. Check why?\n",
    "\n",
    "i,j =2,2\n",
    "k,l= 500,500\n",
    "print(id(i),id(j))\n",
    "print(id(k),id(l))"
   ]
  },
  {
   "cell_type": "code",
   "execution_count": 22,
   "id": "e3f3244c",
   "metadata": {},
   "outputs": [
    {
     "name": "stdout",
     "output_type": "stream",
     "text": [
      "2270525884208 2270525884208\n"
     ]
    }
   ],
   "source": [
    "# Q. Take one int value either less than -5 or greater than 256.\n",
    "# Assign it to two different variables.\n",
    "# Check the id of both the variables. It should come different.Check why?\n",
    "\n",
    "k,l= 501,501\n",
    "print(id(k),id(l))"
   ]
  },
  {
   "cell_type": "code",
   "execution_count": 28,
   "id": "ad47e525",
   "metadata": {},
   "outputs": [
    {
     "name": "stdout",
     "output_type": "stream",
     "text": [
      "4\n",
      "0\n",
      "4\n",
      "1.0\n",
      "0\n",
      "81.0\n"
     ]
    }
   ],
   "source": [
    "# Q. Arithmetic Operations on integers\n",
    "# Take two different integer values.\n",
    "# Store them in two different variables.\n",
    "# Do below operations on them:-\n",
    "#  Find sum of both numbers\n",
    "#  Find difference between them\n",
    "#  Find the product of both numbers.\n",
    "#  Find value after dividing first num with second number\n",
    "#  Find the remainder after dividing first number with second number\n",
    "#  Find the quotient after dividing first number with second number\n",
    "#  Find the result of the first num to the power of the second number.\n",
    "import math\n",
    "\n",
    "k,l= 501,501\n",
    "print(i+j)\n",
    "print(i-j)\n",
    "print(i*j)\n",
    "print(i/j)\n",
    "print(i%j)\n",
    "print(math.pow(9,2))"
   ]
  },
  {
   "cell_type": "code",
   "execution_count": 29,
   "id": "7d3dbd63",
   "metadata": {},
   "outputs": [
    {
     "name": "stdout",
     "output_type": "stream",
     "text": [
      "False\n",
      "True\n",
      "False\n",
      "True\n"
     ]
    }
   ],
   "source": [
    "f1= 2\n",
    "f2= 4\n",
    "\n",
    "print(f1>f2)\n",
    "print(f1<f2)\n",
    "print(f1>=f2)\n",
    "print(f1<=f2)"
   ]
  },
  {
   "cell_type": "code",
   "execution_count": 30,
   "id": "76ee68ae",
   "metadata": {},
   "outputs": [
    {
     "name": "stdout",
     "output_type": "stream",
     "text": [
      "False\n",
      "True\n"
     ]
    }
   ],
   "source": [
    "f1= 2\n",
    "f2= 4\n",
    "\n",
    "print(f1==f2)\n",
    "print(f1!=f2)"
   ]
  },
  {
   "cell_type": "code",
   "execution_count": 31,
   "id": "cf750a55",
   "metadata": {},
   "outputs": [
    {
     "name": "stdout",
     "output_type": "stream",
     "text": [
      "20\n",
      "0\n",
      "0\n",
      "0\n",
      "10\n",
      "20\n",
      "20\n",
      "0\n",
      "False\n",
      "True\n"
     ]
    }
   ],
   "source": [
    "print(10 and 20)\n",
    "#----------------------------------------->Output is 20\n",
    "print(0 and 20)\n",
    "#----------------------------------------->Output is 0\n",
    "print(20 and 0)\n",
    "#----------------------------------------->Output is 0\n",
    "print(0 and 0)\n",
    "#----------------------------------------->Output is 0\n",
    "print(10 or 20)\n",
    "#----------------------------------------->Output is 10\n",
    "print(0 or 20)\n",
    "#----------------------------------------->Output is 20\n",
    "print(20 or 0)\n",
    "#----------------------------------------->Output is 20\n",
    "print(0 or 0)\n",
    "#----------------------------------------->Output is 0\n",
    "print(not 10)\n",
    "#----------------------------------------->Output is False\n",
    "print(not 0)\n",
    "#----------------------------------------->Output is True"
   ]
  },
  {
   "cell_type": "code",
   "execution_count": 35,
   "id": "087abf94",
   "metadata": {},
   "outputs": [
    {
     "name": "stdout",
     "output_type": "stream",
     "text": [
      "2\n",
      "2\n",
      "0\n",
      "-3\n",
      "8\n",
      "0\n"
     ]
    }
   ],
   "source": [
    "print(i & j)\n",
    "print(i | j)\n",
    "print(i ^ j)\n",
    "print(~i)\n",
    "print(i << j)\n",
    "print(i >> j)"
   ]
  },
  {
   "cell_type": "code",
   "execution_count": 36,
   "id": "6e6a5f5c",
   "metadata": {},
   "outputs": [
    {
     "name": "stdout",
     "output_type": "stream",
     "text": [
      "True\n",
      "False\n",
      "False\n",
      "True\n"
     ]
    }
   ],
   "source": [
    "a = 10\n",
    "b = 10\n",
    "print(a is b) #True or False?\n",
    "print(a is not b) #True or False?\n",
    "a = 1000\n",
    "b = 1000\n",
    "print(a is b) #True or False?\n",
    "print(a is not b) #True or False?"
   ]
  },
  {
   "cell_type": "code",
   "execution_count": 37,
   "id": "f1494b01",
   "metadata": {},
   "outputs": [
    {
     "name": "stdout",
     "output_type": "stream",
     "text": [
      "20\n"
     ]
    }
   ],
   "source": [
    "print(10+(10*32)//2**5&20+(~(-10))<<2)"
   ]
  },
  {
   "cell_type": "code",
   "execution_count": 38,
   "id": "deac5882",
   "metadata": {},
   "outputs": [
    {
     "name": "stdout",
     "output_type": "stream",
     "text": [
      "True\n",
      "True\n",
      "True\n",
      "True\n",
      "True\n",
      "True\n"
     ]
    }
   ],
   "source": [
    "print('2' in 'Python2.7.8')\n",
    "print(10 in [10,10.20,10+20j,'Python'])\n",
    "print(10 in (10,10.20,10+20j,'Python'))\n",
    "print(2 in {1,2,3})\n",
    "print(3 in {1:100, 2:200, 3:300})\n",
    "print(10 in range(20))"
   ]
  },
  {
   "cell_type": "code",
   "execution_count": 39,
   "id": "145689ac",
   "metadata": {},
   "outputs": [
    {
     "name": "stdout",
     "output_type": "stream",
     "text": [
      "Binary: 0b10011010010100\n",
      "Octal: 0o23224\n",
      "Hexadecimal: 0x2694\n"
     ]
    }
   ],
   "source": [
    "# Q. An integer can be represented in binary, octal or hexadecimal form.\n",
    "# Declare one binary, one octal and one hexadecimal value and store them\n",
    "# in three different variables.\n",
    "# Convert 9876 to its binary, octal and hexadecimal equivalent and print\n",
    "# their corresponding value.\n",
    "\n",
    "binary_value = 0b1010110010100\n",
    "octal_value = 0o23224\n",
    "hexadecimal_value = 0x2694\n",
    "\n",
    "decimal_value = 9876\n",
    "binary_equivalent = bin(decimal_value)\n",
    "octal_equivalent = oct(decimal_value)\n",
    "hexadecimal_equivalent = hex(decimal_value)\n",
    "\n",
    "print(\"Binary:\", binary_equivalent)\n",
    "print(\"Octal:\", octal_equivalent)\n",
    "print(\"Hexadecimal:\", hexadecimal_equivalent)"
   ]
  },
  {
   "cell_type": "code",
   "execution_count": 40,
   "id": "e0e809ab",
   "metadata": {},
   "outputs": [
    {
     "name": "stdout",
     "output_type": "stream",
     "text": [
      "80\n",
      "3870\n",
      "64222\n",
      "0b1010000\n",
      "0o7436\n",
      "0xfade\n",
      "0b1010000\n",
      "0b1111101011011110\n",
      "0o175336\n",
      "0o7436\n",
      "0x50\n",
      "0xfade\n"
     ]
    }
   ],
   "source": [
    "a = 0b1010000\n",
    "print(a)\n",
    "b = 0o7436\n",
    "print(b)\n",
    "c = 0xfade\n",
    "print(c)\n",
    "print(bin(80))\n",
    "print(oct(3870))\n",
    "print(hex(64222))\n",
    "print(bin(0b1010000))\n",
    "print(bin(0xfade))\n",
    "print(oct(0xfade))\n",
    "print(oct(0o7436))\n",
    "print(hex(0b1010000))\n",
    "print(hex(0xfade))"
   ]
  },
  {
   "cell_type": "code",
   "execution_count": null,
   "id": "059ba6f0",
   "metadata": {},
   "outputs": [],
   "source": []
  }
 ],
 "metadata": {
  "kernelspec": {
   "display_name": "Python 3 (ipykernel)",
   "language": "python",
   "name": "python3"
  },
  "language_info": {
   "codemirror_mode": {
    "name": "ipython",
    "version": 3
   },
   "file_extension": ".py",
   "mimetype": "text/x-python",
   "name": "python",
   "nbconvert_exporter": "python",
   "pygments_lexer": "ipython3",
   "version": "3.10.9"
  }
 },
 "nbformat": 4,
 "nbformat_minor": 5
}
