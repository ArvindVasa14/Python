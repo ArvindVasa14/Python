{
 "cells": [
  {
   "cell_type": "code",
   "execution_count": 4,
   "id": "862ac077",
   "metadata": {},
   "outputs": [
    {
     "name": "stdout",
     "output_type": "stream",
     "text": [
      "5\n"
     ]
    }
   ],
   "source": [
    "strng= \"I am Aravind\"\n",
    "s= set(strng)\n",
    "vowels=['A','E','I','O','U','a','e','i','o','u']\n",
    "vow_count=0\n",
    "for i in s:\n",
    "    if i in vowels:\n",
    "        vow_count+= strng.count(i)\n",
    "print(vow_count)"
   ]
  },
  {
   "cell_type": "code",
   "execution_count": 7,
   "id": "c3e90877",
   "metadata": {},
   "outputs": [
    {
     "data": {
      "text/plain": [
       "{' ', 'I', 'a', 'm', 'r'}"
      ]
     },
     "execution_count": 7,
     "metadata": {},
     "output_type": "execute_result"
    }
   ],
   "source": [
    "s1= \"I am Aravind\"\n",
    "s2= \"I am Groot\"\n",
    "\n",
    "set(s1).intersection(set(s2))"
   ]
  },
  {
   "cell_type": "code",
   "execution_count": 9,
   "id": "a136f9de",
   "metadata": {},
   "outputs": [
    {
     "name": "stdout",
     "output_type": "stream",
     "text": [
      "{'n', 'v', 'd', 'A', 'i'}\n"
     ]
    }
   ],
   "source": [
    "s1= \"I am Aravind\"\n",
    "s2= \"I am Groot\"\n",
    "print(set(s1)-set(s2))"
   ]
  },
  {
   "cell_type": "code",
   "execution_count": 10,
   "id": "c15e87b9",
   "metadata": {},
   "outputs": [
    {
     "data": {
      "text/plain": [
       "{' ', 'A', 'G', 'I', 'a', 'd', 'i', 'm', 'n', 'o', 'r', 't', 'v'}"
      ]
     },
     "execution_count": 10,
     "metadata": {},
     "output_type": "execute_result"
    }
   ],
   "source": [
    "set(s1).union(set(s2))"
   ]
  },
  {
   "cell_type": "code",
   "execution_count": 12,
   "id": "e25c849c",
   "metadata": {},
   "outputs": [
    {
     "data": {
      "text/plain": [
       "{'A', 'G', 'd', 'i', 'n', 'o', 't', 'v'}"
      ]
     },
     "execution_count": 12,
     "metadata": {},
     "output_type": "execute_result"
    }
   ],
   "source": [
    "set(s1).union(set(s2)) - set(s1).intersection(set(s2))"
   ]
  }
 ],
 "metadata": {
  "kernelspec": {
   "display_name": "Python 3 (ipykernel)",
   "language": "python",
   "name": "python3"
  },
  "language_info": {
   "codemirror_mode": {
    "name": "ipython",
    "version": 3
   },
   "file_extension": ".py",
   "mimetype": "text/x-python",
   "name": "python",
   "nbconvert_exporter": "python",
   "pygments_lexer": "ipython3",
   "version": "3.10.9"
  }
 },
 "nbformat": 4,
 "nbformat_minor": 5
}
