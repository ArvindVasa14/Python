{
 "cells": [
  {
   "cell_type": "code",
   "execution_count": 1,
   "id": "33f0f785",
   "metadata": {},
   "outputs": [
    {
     "name": "stdout",
     "output_type": "stream",
     "text": [
      "<class 'bool'>\n",
      "140718826473680\n"
     ]
    }
   ],
   "source": [
    "# Q. Declare a boolean value and store it in a variable.\n",
    "# Check the type and print the id of the same.\n",
    "\n",
    "\n",
    "myBool= True\n",
    "print(type(myBool))\n",
    "print(id(myBool))"
   ]
  },
  {
   "cell_type": "code",
   "execution_count": 7,
   "id": "c2e71121",
   "metadata": {},
   "outputs": [
    {
     "name": "stdout",
     "output_type": "stream",
     "text": [
      "140718826473680 140718826473680\n"
     ]
    }
   ],
   "source": [
    "# Q. Take one boolean value between 0 - 256.\n",
    "# Assign it to two different variables.\n",
    "# Check the id of both the variables. It should come the same. Check why?\n",
    "\n",
    "bool1= bool(234)\n",
    "bool2= bool(21)\n",
    "print(id(bool1),id(bool2))"
   ]
  },
  {
   "cell_type": "code",
   "execution_count": 12,
   "id": "30b3c6fe",
   "metadata": {},
   "outputs": [
    {
     "name": "stdout",
     "output_type": "stream",
     "text": [
      "2\n",
      "0\n",
      "1\n",
      "1.0\n",
      "0\n",
      "2\n",
      "1.0\n"
     ]
    }
   ],
   "source": [
    "# Q. Arithmetic Operations on boolean data\n",
    "# Take two different boolean values.\n",
    "# Store them in two different variables.\n",
    "# Do below operations on them:-\n",
    "#  Find sum of both values\n",
    "#  Find difference between them\n",
    "#  Find the product of both.\n",
    "#  Find value after dividing first value with second value\n",
    "#  Find the remainder after dividing first value with second value\n",
    "#  Find the quotient after dividing first value with second value\n",
    "#  Find the result of first value to the power of second value.\n",
    "import math\n",
    "\n",
    "b1= True\n",
    "b2= True\n",
    "print(b1+b2)\n",
    "print(b1-b2)\n",
    "print(b1*b2)\n",
    "print(b1/b2)\n",
    "print(b1%b2)\n",
    "print(b1+b2)\n",
    "print(math.pow(b1,b2))"
   ]
  },
  {
   "cell_type": "code",
   "execution_count": 13,
   "id": "dd716632",
   "metadata": {},
   "outputs": [
    {
     "name": "stdout",
     "output_type": "stream",
     "text": [
      "False\n",
      "False\n",
      "True\n",
      "True\n"
     ]
    }
   ],
   "source": [
    "# Q. Comparison Operators on boolean values\n",
    "# Take two different boolean values.\n",
    "# Store them in two different variables.\n",
    "# Do below operations on them:-\n",
    "#  Compare these two values with below operator:-\n",
    "#  Greater than, '>'\n",
    "#  less than, '<'\n",
    "#  Greater than or equal to, '>='\n",
    "#  Less than or equal to, '<='\n",
    "# Observe their output(return type should be boolean)\n",
    "\n",
    "b1= True\n",
    "b2= True\n",
    "print(b1>b2)\n",
    "print(b1<b2)\n",
    "print(b1>=b2)\n",
    "print(b1<=b2)"
   ]
  },
  {
   "cell_type": "code",
   "execution_count": 14,
   "id": "1fbe89ff",
   "metadata": {},
   "outputs": [
    {
     "name": "stdout",
     "output_type": "stream",
     "text": [
      "True\n",
      "False\n"
     ]
    }
   ],
   "source": [
    "# Q. Equality Operator\n",
    "# Take two different boolean values.\n",
    "# Store them in two different variables.\n",
    "# Equate them using equality operators (==, !=)\n",
    "# Observe the output(return type should be boolean)\n",
    "\n",
    "b1= True\n",
    "b2= True\n",
    "print(b1==b2)\n",
    "print(b1!=b2)"
   ]
  },
  {
   "cell_type": "code",
   "execution_count": 15,
   "id": "acf592c7",
   "metadata": {},
   "outputs": [
    {
     "name": "stdout",
     "output_type": "stream",
     "text": [
      "True\n",
      "False\n",
      "False\n",
      "False\n",
      "True\n",
      "True\n",
      "True\n",
      "False\n",
      "False\n",
      "True\n"
     ]
    }
   ],
   "source": [
    "# Q. Logical operators\n",
    "# Observe the output of below code\n",
    "# Cross check the output manually\n",
    "print(True and True)\n",
    "# #----------------------------------------->Output is True\n",
    "print(False and True)\n",
    "# #----------------------------------------->Output is False\n",
    "print(True and False)\n",
    "# #----------------------------------------->Output is False\n",
    "print(False and False)\n",
    "# #----------------------------------------->Output is False\n",
    "print(True or True)\n",
    "# #----------------------------------------->Output is True\n",
    "print(False or True)\n",
    "# #----------------------------------------->Output is True\n",
    "print(True or False)\n",
    "# #----------------------------------------->Output is True\n",
    "print(False or False)\n",
    "# #----------------------------------------->Output is False\n",
    "print(not True)\n",
    "# #----------------------------------------->Output is False\n",
    "print(not False)\n",
    "# #----------------------------------------->Output is True"
   ]
  },
  {
   "cell_type": "code",
   "execution_count": 26,
   "id": "f71cf28d",
   "metadata": {},
   "outputs": [
    {
     "name": "stdout",
     "output_type": "stream",
     "text": [
      "True\n",
      "True\n",
      "True\n",
      "-2\n",
      "4\n",
      "0\n"
     ]
    }
   ],
   "source": [
    "# Q. Bitwise Operators\n",
    "# Do below operations on the values provided below:-\n",
    "#  Bitwise and(&) --------------> True, True -------> Output is True\n",
    "#  Bitwise or(|) --------------> True, False -------> Output is True\n",
    "#  Bitwise(^) --------------> True, False -------> Output is True\n",
    "#  Bitwise negation(~) ---------> True -------> Output is -2\n",
    "#  Bitwise left shift ---------> True,2 -------> Output is 4\n",
    "#  Bitwise right shift ---------> True,2 -------> Output is 0\n",
    "# Cross check the output manually\n",
    "\n",
    "print(True & True)\n",
    "print(True | False)\n",
    "print(True ^ False)\n",
    "print(~True)\n",
    "print(True << 2)\n",
    "print(True >> 2)"
   ]
  },
  {
   "cell_type": "code",
   "execution_count": 27,
   "id": "76561820",
   "metadata": {},
   "outputs": [
    {
     "name": "stdout",
     "output_type": "stream",
     "text": [
      "True\n",
      "False\n",
      "True\n",
      "False\n"
     ]
    }
   ],
   "source": [
    "# Q. What is the output of expression inside the print statement. Cross\n",
    "# check before running the program.\n",
    "# a = True\n",
    "# b = True\n",
    "# print(a is b) #True or False? #\n",
    "# print(a is not b) #True or False?\n",
    "# a = False\n",
    "# b = False\n",
    "# print(a is b) #True or False?\n",
    "# print(a is not b) #True or False?\n",
    "\n",
    "a = True\n",
    "b = True\n",
    "print(a is b) #True or False? #\n",
    "print(a is not b) #True or False?\n",
    "a = False\n",
    "b = False\n",
    "print(a is b) #True or False?\n",
    "print(a is not b) #True or False?"
   ]
  },
  {
   "cell_type": "code",
   "execution_count": 28,
   "id": "4d1a9578",
   "metadata": {},
   "outputs": [
    {
     "name": "stdout",
     "output_type": "stream",
     "text": [
      "True\n",
      "True\n",
      "True\n",
      "True\n",
      "True\n"
     ]
    }
   ],
   "source": [
    "# Q. Membership operation\n",
    "# in, not in are two membership operators and it returns boolean value\n",
    "# print(True in [10,10.20,10+20j,'Python', True])\n",
    "# print(False in (10,10.20,10+20j,'Python', False))\n",
    "# print(True in {1,2,3, True})\n",
    "# print(True in {True:100, False:200, True:300})\n",
    "# print(False in {True:100, False:200, True:300}\n",
    "\n",
    "print(True in [10,10.20,10+20j,'Python', True])\n",
    "print(False in (10,10.20,10+20j,'Python', False))\n",
    "print(True in {1,2,3, True})\n",
    "print(True in {True:100, False:200, True:300})\n",
    "print(False in {True:100, False:200, True:300})"
   ]
  }
 ],
 "metadata": {
  "kernelspec": {
   "display_name": "Python 3 (ipykernel)",
   "language": "python",
   "name": "python3"
  },
  "language_info": {
   "codemirror_mode": {
    "name": "ipython",
    "version": 3
   },
   "file_extension": ".py",
   "mimetype": "text/x-python",
   "name": "python",
   "nbconvert_exporter": "python",
   "pygments_lexer": "ipython3",
   "version": "3.10.9"
  }
 },
 "nbformat": 4,
 "nbformat_minor": 5
}
