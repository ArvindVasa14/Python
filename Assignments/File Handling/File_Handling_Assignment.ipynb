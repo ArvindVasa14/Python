{
 "cells": [
  {
   "cell_type": "code",
   "execution_count": 5,
   "metadata": {},
   "outputs": [
    {
     "name": "stdout",
     "output_type": "stream",
     "text": [
      "jhony jhony,\n",
      "Yes paapa\n"
     ]
    }
   ],
   "source": [
    "# Write a function in python to read the content from \n",
    "# a text file \"poem.txt\" line by line and display the same on screen.\n",
    "\n",
    "def display_poem():\n",
    "    try:\n",
    "        with open(r\"C:\\Users\\Arvind Vasa\\OneDrive\\Desktop\\poem.txt\", \"r\") as file:\n",
    "            for line in file:\n",
    "                print(line.rstrip())\n",
    "                      \n",
    "    except FileNotFoundError:\n",
    "        print(\"The poem.txt file does not exist.\")\n",
    "\n",
    "        \n",
    "display_poem()"
   ]
  },
  {
   "cell_type": "code",
   "execution_count": 9,
   "metadata": {},
   "outputs": [
    {
     "name": "stdout",
     "output_type": "stream",
     "text": [
      "2\n"
     ]
    }
   ],
   "source": [
    "# Write a function in python to count the number of lines \n",
    "# from a text file \"story.txt\" which is not starting with an alphabet \"T\". \n",
    "\n",
    "\n",
    "def display_poem():\n",
    "    cnt=0\n",
    "    try:\n",
    "        with open(r\"C:\\Users\\Arvind Vasa\\OneDrive\\Desktop\\poem.txt\", \"r\") as file:\n",
    "            for line in file:\n",
    "                cnt+=1\n",
    "                      \n",
    "    except FileNotFoundError:\n",
    "        print(\"The poem.txt file does not exist.\")\n",
    "    \n",
    "    return cnt\n",
    "\n",
    "        \n",
    "print(display_poem())\n",
    "# Example: If the file \"story.txt\" contains the following lines: A boy is playing there.\n",
    "# There is a playground.\n",
    "# An aeroplane is in the sky.\n",
    "# The sky is pink.\n",
    "# Alphabets and numbers are allowed in the password.\n",
    "# The function should display the output as 3"
   ]
  },
  {
   "cell_type": "code",
   "execution_count": 15,
   "metadata": {},
   "outputs": [
    {
     "name": "stdout",
     "output_type": "stream",
     "text": [
      "4\n"
     ]
    }
   ],
   "source": [
    "# Write a function in Python to count and display the total number of words in a text file.\n",
    "\n",
    "def display_poem():\n",
    "    cnt=0\n",
    "    try:\n",
    "        with open(r\"C:\\Users\\Arvind Vasa\\OneDrive\\Desktop\\poem.txt\", \"r\") as file:\n",
    "            cnt= len(file.read().split())\n",
    "                      \n",
    "    except FileNotFoundError:\n",
    "        print(\"The poem.txt file does not exist.\")\n",
    "    \n",
    "    return cnt\n",
    "\n",
    "        \n",
    "print(display_poem())"
   ]
  },
  {
   "cell_type": "code",
   "execution_count": 17,
   "metadata": {},
   "outputs": [
    {
     "name": "stdout",
     "output_type": "stream",
     "text": [
      "3\n"
     ]
    }
   ],
   "source": [
    "# Write a function in Python to read lines from a text file \"notes.txt\". \n",
    "# Your function should find and display the occurrence of the word \"the\".\n",
    "\n",
    "# For example: If the content of the file is:\n",
    "# \"India is the fastest-growing economy. India is looking for more investments around the globe. The whole world is looking at India as a great market. Most of the Indians can foresee the heights that India is capable of reaching.\"\n",
    "\n",
    "# The output should be 5.\n",
    "def display_poem():\n",
    "    cnt=0\n",
    "    try:\n",
    "        with open(r\"C:\\Users\\Arvind Vasa\\OneDrive\\Desktop\\poem.txt\", \"r\") as file:\n",
    "            cnt= (file.read().split()).count('the')\n",
    "                      \n",
    "    except FileNotFoundError:\n",
    "        print(\"The poem.txt file does not exist.\")\n",
    "    \n",
    "    return cnt\n",
    "\n",
    "        \n",
    "print(display_poem())\n"
   ]
  },
  {
   "cell_type": "code",
   "execution_count": 18,
   "metadata": {},
   "outputs": [
    {
     "name": "stdout",
     "output_type": "stream",
     "text": [
      "Yes\n",
      "the\n",
      "the\n",
      "the\n"
     ]
    }
   ],
   "source": [
    "# Write a function display_words() in python to read lines from a text file \"story.txt\", \n",
    "# and display those words, which are less than 4 characters.\n",
    "\n",
    "with open(r\"C:\\Users\\Arvind Vasa\\OneDrive\\Desktop\\poem.txt\", \"r\") as file:\n",
    "    lst= file.read().split()\n",
    "    for i in lst:\n",
    "        if len(i)<4:\n",
    "            print(i)"
   ]
  },
  {
   "cell_type": "code",
   "execution_count": 32,
   "metadata": {},
   "outputs": [
    {
     "name": "stdout",
     "output_type": "stream",
     "text": [
      "4\n"
     ]
    }
   ],
   "source": [
    "# Write a function in Python to count the words \"this\" and \"these\" present in a text file \"article.txt\". \n",
    "# [Note that the words \"this\" and \"these\" are complete words] \n",
    "\n",
    "def display_poem():\n",
    "    cnt=0\n",
    "    try:\n",
    "        with open(r\"C:\\Users\\Arvind Vasa\\OneDrive\\Desktop\\poem.txt\", \"r\") as file:\n",
    "            lst= file.read().split()\n",
    "            cnt= (lst).count('this') + (lst).count('these')\n",
    "                      \n",
    "    except FileNotFoundError:\n",
    "        print(\"The poem.txt file does not exist.\")\n",
    "    \n",
    "    return cnt\n",
    "\n",
    "        \n",
    "print(display_poem())"
   ]
  },
  {
   "cell_type": "code",
   "execution_count": 33,
   "metadata": {},
   "outputs": [
    {
     "name": "stdout",
     "output_type": "stream",
     "text": [
      "5\n"
     ]
    }
   ],
   "source": [
    "# Write a function in Python to count words in a text file those are ending with alphabet \"e\"\n",
    "\n",
    "def display_poem():\n",
    "    cnt=0\n",
    "    try:\n",
    "        with open(r\"C:\\Users\\Arvind Vasa\\OneDrive\\Desktop\\poem.txt\", \"r\") as file:\n",
    "            lst= file.read().split()\n",
    "            for i in lst:\n",
    "                if i.endswith('e'):\n",
    "                    cnt+=1\n",
    "                      \n",
    "    except FileNotFoundError:\n",
    "        print(\"The poem.txt file does not exist.\")\n",
    "    \n",
    "    return cnt\n",
    "\n",
    "        \n",
    "print(display_poem())"
   ]
  },
  {
   "cell_type": "code",
   "execution_count": 34,
   "metadata": {},
   "outputs": [
    {
     "name": "stdout",
     "output_type": "stream",
     "text": [
      "1\n"
     ]
    }
   ],
   "source": [
    "# Write a function in Python to count uppercase character in a text file.\n",
    "\n",
    "def display_poem():\n",
    "    cnt=0\n",
    "    try:\n",
    "        with open(r\"C:\\Users\\Arvind Vasa\\OneDrive\\Desktop\\poem.txt\", \"r\") as file:\n",
    "            cont= file.read()\n",
    "            for i in cont:\n",
    "                if i.isupper():\n",
    "                    cnt+=1\n",
    "                      \n",
    "    except FileNotFoundError:\n",
    "        print(\"The poem.txt file does not exist.\")\n",
    "    \n",
    "    return cnt\n",
    "\n",
    "        \n",
    "print(display_poem())"
   ]
  },
  {
   "cell_type": "code",
   "execution_count": 35,
   "metadata": {},
   "outputs": [
    {
     "name": "stdout",
     "output_type": "stream",
     "text": [
      "j#h#o#n#y# #j#h#o#n#y#,#\n",
      "#Y#e#s# #p#a#a#p#a#\n",
      "#t#h#e# #t#h#e# #t#h#e#\n",
      "#t#h#i#s# #t#h#i#s# #t#h#e#s#e# #t#h#e#s#e#0\n"
     ]
    }
   ],
   "source": [
    "# A text file named \"matter.txt\" contains some text, which needs to be displayed such that \n",
    "# every next character is separated by a symbol \"#\". \n",
    "# Write a function definition for hash_display() in Python that would display \n",
    "# the entire content of the file matter.txt in the desired format.\n",
    "\n",
    "# Example :\n",
    "# If the file matter.txt has the following content stored in it :\n",
    "# THE WORLD IS ROUND\n",
    "\n",
    "# The function hash_display() should display the following content :\n",
    "# T#H#E# #W#O#R#L#D# #I#S# #R#O#U#N#D#\n",
    "\n",
    "def hash_display():\n",
    "    cnt=0\n",
    "    try:\n",
    "        with open(r\"C:\\Users\\Arvind Vasa\\OneDrive\\Desktop\\poem.txt\", \"r\") as file:\n",
    "            cont= file.read()\n",
    "            for i in cont:\n",
    "                print(i+'#',end=\"\")\n",
    "                      \n",
    "    except FileNotFoundError:\n",
    "        print(\"The poem.txt file does not exist.\")\n",
    "    \n",
    "    return cnt\n",
    "\n",
    "        \n",
    "print(hash_display())"
   ]
  },
  {
   "cell_type": "code",
   "execution_count": 39,
   "metadata": {
    "scrolled": true
   },
   "outputs": [
    {
     "name": "stdout",
     "output_type": "stream",
     "text": [
      "jhony jhony,\n",
      "Yes paapa\n",
      "the the the\n",
      "this this these these\n",
      "\n",
      "WELL, THIS IS A WORD BY ITSELF. YOU COULD STRETCH THIS TO BE A SENTENCE0\n"
     ]
    }
   ],
   "source": [
    "# Aditi has used a text editing software to type some text. After saving the article as WORDS.TXT, \n",
    "# she realised that she has wrongly typed alphabet J in place of alphabet I everywhere in the article.\n",
    "# Write a function definition for JTOI() in Python that would display the corrected version of entire content \n",
    "# of the file WORDS.TXT with all the alphabets \"J\" to be displayed as an alphabet \"I\" on screen.\n",
    "\n",
    "# Note: Assuming that WORD.TXT does not contain any J alphabet otherwise.\n",
    "\n",
    "# Example:\n",
    "# If Aditi has stored the following content in the file WORDS.TXT:\n",
    "# WELL, THJS JS A WORD BY JTSELF. YOU COULD STRETCH THJS TO BE A SENTENCE\n",
    "# The function JTOI() should display the following content:\n",
    "# WELL, THIS IS A WORD BY ITSELF. YOU COULD STRETCH THIS TO BE A SENTENCE\n",
    "\n",
    "def JTOI():\n",
    "    cnt=0\n",
    "    try:\n",
    "        with open(r\"C:\\Users\\Arvind Vasa\\OneDrive\\Desktop\\poem.txt\", \"r\") as file:\n",
    "            cont= file.read()\n",
    "            for i in cont:\n",
    "                if i=='J':\n",
    "                    print('I',end='')\n",
    "                else:\n",
    "                    print(i,end='')\n",
    "                      \n",
    "    except FileNotFoundError:\n",
    "        print(\"The poem.txt file does not exist.\")\n",
    "    \n",
    "    return cnt\n",
    "\n",
    "        \n",
    "print(JTOI())"
   ]
  },
  {
   "cell_type": "code",
   "execution_count": 40,
   "metadata": {},
   "outputs": [
    {
     "name": "stdout",
     "output_type": "stream",
     "text": [
      "5\n"
     ]
    }
   ],
   "source": [
    "# Write a function AMCount() in Python, which should read each character of a text file STORY.TXT, \n",
    "# should count and display the occurance of alphabets A and M (including small cases a and m too).\n",
    "# For Example:\n",
    "# If the file content is as follows:\n",
    "# Updated information\n",
    "# As simplified by official websites.\n",
    "# The EUCount() function should display the output as:\n",
    "# A or a:4\n",
    "# M or m :2\n",
    "\n",
    "def AMCount():\n",
    "    cnt=0\n",
    "    try:\n",
    "        with open(r\"C:\\Users\\Arvind Vasa\\OneDrive\\Desktop\\poem.txt\", \"r\") as file:\n",
    "            cont= file.read()\n",
    "            for i in cont:\n",
    "                if i.upper()=='A' or i.upper()=='M' :\n",
    "                    cnt+=1\n",
    "                      \n",
    "    except FileNotFoundError:\n",
    "        print(\"The poem.txt file does not exist.\")\n",
    "    \n",
    "    return cnt\n",
    "\n",
    "        \n",
    "print(AMCount())"
   ]
  },
  {
   "cell_type": "code",
   "execution_count": 47,
   "metadata": {
    "scrolled": true
   },
   "outputs": [
    {
     "name": "stdout",
     "output_type": "stream",
     "text": [
      "Enter Book Number: 1\n",
      "Enter Book Name: a\n",
      "Enter Author Name: v\n",
      "Enter Price: 12\n",
      "Record added successfully.\n",
      "Enter the Author name to count the books: v\n",
      "Number of books by v in the binary file:  1\n"
     ]
    }
   ],
   "source": [
    "# A binary file \"Book.dat\" has structure [BookNo, Book_Name, Author, Price].\n",
    "# i. Write a user defined function createFile() to input data for a record and add to Book.dat.\n",
    "# ii. Write a function countRec(Author) in Python which accepts the Author name as parameter \n",
    "# and count and return number of books by the given Author are stored in the binary file \"Book.dat\"\n",
    "\n",
    "import struct\n",
    "\n",
    "def createFile():\n",
    "    try:\n",
    "        with open(\"Book.dat\", \"ab\") as file:\n",
    "            BookNo = int(input(\"Enter Book Number: \"))\n",
    "            Book_Name = input(\"Enter Book Name: \")\n",
    "            Author = input(\"Enter Author Name: \")\n",
    "            Price = float(input(\"Enter Price: \"))\n",
    "\n",
    "            data = struct.pack('i50s50sf', BookNo, Book_Name.encode(), Author.encode(), Price)\n",
    "            file.write(data)\n",
    "            print(\"Record added successfully.\")\n",
    "    except Exception as e:\n",
    "        print(\"Error occurred:\", str(e))\n",
    "\n",
    "\n",
    "def countRec(Author):\n",
    "    try:\n",
    "        count = 0\n",
    "        with open(\"Book.dat\", \"rb\") as file:\n",
    "            while True:\n",
    "                data = file.read(108)\n",
    "                if not data:\n",
    "                    break\n",
    "\n",
    "                record = struct.unpack('i50s50sf', data)\n",
    "                record_Author = record[2].decode().strip('\\x00') \n",
    "\n",
    "                if record_Author == Author:\n",
    "                    count += 1\n",
    "\n",
    "        return count\n",
    "\n",
    "    except Exception as e:\n",
    "        print(\"Error occurred:\", str(e))\n",
    "\n",
    "\n",
    "createFile()  \n",
    "\n",
    "Author = input(\"Enter the Author name to count the books: \")\n",
    "count = countRec(Author)\n",
    "print(\"Number of books by\", Author, \"in the binary file: \", count)"
   ]
  },
  {
   "cell_type": "code",
   "execution_count": 52,
   "metadata": {},
   "outputs": [
    {
     "name": "stdout",
     "output_type": "stream",
     "text": [
      "Error occurred: [Errno 2] No such file or directory: 'STUDENT.DAT'\n"
     ]
    }
   ],
   "source": [
    "# A binary file \"STUDENT.DAT\" has structure (admission_number, Name, Percentage). \n",
    "# Write a function count_rec() in Python that would read contents of the file \"STUDENT.DAT\" \n",
    "# and display the details of those students whose percentage is above 75. \n",
    "# Also display number of students scoring above 75%\n",
    "\n",
    "import struct\n",
    "\n",
    "def count_rec():\n",
    "    count = 0\n",
    "    try:\n",
    "        with open(\"STUDENT.DAT\", \"rb\") as file:\n",
    "            while True:\n",
    "                data = file.read(62)\n",
    "                if not data:\n",
    "                    break\n",
    "\n",
    "                record = struct.unpack('i50sf', data)\n",
    "                admission_number = record[0]\n",
    "                name = record[1].decode().strip('\\x00')  \n",
    "                percentage = record[2]\n",
    "\n",
    "                if percentage > 75:\n",
    "                    count += 1\n",
    "                    print(\"Admission Number:\", admission_number)\n",
    "                    print(\"Name:\", name)\n",
    "                    print(\"Percentage:\", percentage)\n",
    "                    print()\n",
    "\n",
    "        print(\"Number of students scoring above 75%:\", count)\n",
    "\n",
    "    except Exception as e:\n",
    "        print(\"Error occurred:\", str(e))\n",
    "        \n",
    "        \n",
    "count_rec()"
   ]
  },
  {
   "cell_type": "code",
   "execution_count": null,
   "metadata": {},
   "outputs": [],
   "source": [
    "# Given a binary file employee.dat, created using dictionary object having keys: (empcode, name, and salary)\n",
    "\n",
    "# Write a python function that add one more record at the end of file.\n",
    "# Write a python function that display all employee records whose salary is more that 30000\n"
   ]
  },
  {
   "cell_type": "code",
   "execution_count": null,
   "metadata": {},
   "outputs": [],
   "source": [
    "# Write a function to search and display details of student whose rollno is '1005' \n",
    "# from the binary file student.dat having structure [rollno, name, class and fees]."
   ]
  },
  {
   "cell_type": "code",
   "execution_count": null,
   "metadata": {},
   "outputs": [],
   "source": [
    "# A binary file school.dat has structure(rollno, name, class, fees)\n",
    "\n",
    "# Write a definition for function total_fees( ) that reads each object of file and calculate \n",
    "# the total fees of students and display the same."
   ]
  },
  {
   "cell_type": "code",
   "execution_count": null,
   "metadata": {},
   "outputs": [],
   "source": [
    "# A binary file players.dat, containing records of following list format: [code, name, country and total runs]\n",
    "\n",
    "# 1. Write a python function that display all records where player name starts from 'A'\n",
    "# 2. Write a python function that accept country as an argument and count and display \n",
    "#     the number of players of that country.\n",
    "# 3. Write a python function that add one record at the end of file."
   ]
  },
  {
   "cell_type": "code",
   "execution_count": 1,
   "metadata": {
    "ExecuteTime": {
     "end_time": "2021-05-29T10:46:59.140338Z",
     "start_time": "2021-05-29T10:46:59.135100Z"
    }
   },
   "outputs": [],
   "source": [
    "# Given a binary file game.dat, containing records of following list format: [game_name, participants]\n",
    "\n",
    "# Write a function in Python that would read contents from the file game.dat and \n",
    "# creates a file named basket.dat copying only those records from game.dat where the game name is \"Basket Ball\""
   ]
  }
 ],
 "metadata": {
  "kernelspec": {
   "display_name": "Python 3 (ipykernel)",
   "language": "python",
   "name": "python3"
  },
  "language_info": {
   "codemirror_mode": {
    "name": "ipython",
    "version": 3
   },
   "file_extension": ".py",
   "mimetype": "text/x-python",
   "name": "python",
   "nbconvert_exporter": "python",
   "pygments_lexer": "ipython3",
   "version": "3.10.9"
  }
 },
 "nbformat": 4,
 "nbformat_minor": 2
}
