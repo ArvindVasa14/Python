{
 "cells": [
  {
   "cell_type": "code",
   "execution_count": 1,
   "id": "acc8d8b2",
   "metadata": {},
   "outputs": [],
   "source": [
    "import numpy as np\n",
    "import pandas as pd\n",
    "import matplotlib.pyplot as plt\n",
    "import seaborn as sns"
   ]
  },
  {
   "cell_type": "code",
   "execution_count": 12,
   "id": "e1f05536",
   "metadata": {},
   "outputs": [
    {
     "data": {
      "text/html": [
       "<div>\n",
       "<style scoped>\n",
       "    .dataframe tbody tr th:only-of-type {\n",
       "        vertical-align: middle;\n",
       "    }\n",
       "\n",
       "    .dataframe tbody tr th {\n",
       "        vertical-align: top;\n",
       "    }\n",
       "\n",
       "    .dataframe thead th {\n",
       "        text-align: right;\n",
       "    }\n",
       "</style>\n",
       "<table border=\"1\" class=\"dataframe\">\n",
       "  <thead>\n",
       "    <tr style=\"text-align: right;\">\n",
       "      <th></th>\n",
       "      <th>price</th>\n",
       "      <th>bedrooms</th>\n",
       "      <th>bathrooms</th>\n",
       "      <th>sqft_living</th>\n",
       "      <th>sqft_lot</th>\n",
       "      <th>floors</th>\n",
       "      <th>waterfront</th>\n",
       "      <th>view</th>\n",
       "      <th>condition</th>\n",
       "      <th>sqft_above</th>\n",
       "      <th>sqft_basement</th>\n",
       "      <th>yr_built</th>\n",
       "      <th>yr_renovated</th>\n",
       "      <th>city</th>\n",
       "      <th>country</th>\n",
       "    </tr>\n",
       "  </thead>\n",
       "  <tbody>\n",
       "    <tr>\n",
       "      <th>0</th>\n",
       "      <td>313000.0</td>\n",
       "      <td>3</td>\n",
       "      <td>1.50</td>\n",
       "      <td>1340</td>\n",
       "      <td>7912</td>\n",
       "      <td>1.5</td>\n",
       "      <td>0</td>\n",
       "      <td>0</td>\n",
       "      <td>3</td>\n",
       "      <td>1340</td>\n",
       "      <td>0</td>\n",
       "      <td>1955</td>\n",
       "      <td>2005</td>\n",
       "      <td>Shoreline</td>\n",
       "      <td>USA</td>\n",
       "    </tr>\n",
       "    <tr>\n",
       "      <th>1</th>\n",
       "      <td>2384000.0</td>\n",
       "      <td>5</td>\n",
       "      <td>2.50</td>\n",
       "      <td>3650</td>\n",
       "      <td>9050</td>\n",
       "      <td>2.0</td>\n",
       "      <td>0</td>\n",
       "      <td>4</td>\n",
       "      <td>5</td>\n",
       "      <td>3370</td>\n",
       "      <td>280</td>\n",
       "      <td>1921</td>\n",
       "      <td>0</td>\n",
       "      <td>Seattle</td>\n",
       "      <td>USA</td>\n",
       "    </tr>\n",
       "    <tr>\n",
       "      <th>2</th>\n",
       "      <td>342000.0</td>\n",
       "      <td>3</td>\n",
       "      <td>2.00</td>\n",
       "      <td>1930</td>\n",
       "      <td>11947</td>\n",
       "      <td>1.0</td>\n",
       "      <td>0</td>\n",
       "      <td>0</td>\n",
       "      <td>4</td>\n",
       "      <td>1930</td>\n",
       "      <td>0</td>\n",
       "      <td>1966</td>\n",
       "      <td>0</td>\n",
       "      <td>Kent</td>\n",
       "      <td>USA</td>\n",
       "    </tr>\n",
       "    <tr>\n",
       "      <th>3</th>\n",
       "      <td>420000.0</td>\n",
       "      <td>3</td>\n",
       "      <td>2.25</td>\n",
       "      <td>2000</td>\n",
       "      <td>8030</td>\n",
       "      <td>1.0</td>\n",
       "      <td>0</td>\n",
       "      <td>0</td>\n",
       "      <td>4</td>\n",
       "      <td>1000</td>\n",
       "      <td>1000</td>\n",
       "      <td>1963</td>\n",
       "      <td>0</td>\n",
       "      <td>Bellevue</td>\n",
       "      <td>USA</td>\n",
       "    </tr>\n",
       "    <tr>\n",
       "      <th>4</th>\n",
       "      <td>550000.0</td>\n",
       "      <td>4</td>\n",
       "      <td>2.50</td>\n",
       "      <td>1940</td>\n",
       "      <td>10500</td>\n",
       "      <td>1.0</td>\n",
       "      <td>0</td>\n",
       "      <td>0</td>\n",
       "      <td>4</td>\n",
       "      <td>1140</td>\n",
       "      <td>800</td>\n",
       "      <td>1976</td>\n",
       "      <td>1992</td>\n",
       "      <td>Redmond</td>\n",
       "      <td>USA</td>\n",
       "    </tr>\n",
       "  </tbody>\n",
       "</table>\n",
       "</div>"
      ],
      "text/plain": [
       "       price  bedrooms  bathrooms  sqft_living  sqft_lot  floors  waterfront  \\\n",
       "0   313000.0         3       1.50         1340      7912     1.5           0   \n",
       "1  2384000.0         5       2.50         3650      9050     2.0           0   \n",
       "2   342000.0         3       2.00         1930     11947     1.0           0   \n",
       "3   420000.0         3       2.25         2000      8030     1.0           0   \n",
       "4   550000.0         4       2.50         1940     10500     1.0           0   \n",
       "\n",
       "   view  condition  sqft_above  sqft_basement  yr_built  yr_renovated  \\\n",
       "0     0          3        1340              0      1955          2005   \n",
       "1     4          5        3370            280      1921             0   \n",
       "2     0          4        1930              0      1966             0   \n",
       "3     0          4        1000           1000      1963             0   \n",
       "4     0          4        1140            800      1976          1992   \n",
       "\n",
       "        city country  \n",
       "0  Shoreline     USA  \n",
       "1    Seattle     USA  \n",
       "2       Kent     USA  \n",
       "3   Bellevue     USA  \n",
       "4    Redmond     USA  "
      ]
     },
     "execution_count": 12,
     "metadata": {},
     "output_type": "execute_result"
    }
   ],
   "source": [
    "data= pd.read_csv(r'C:\\Users\\Arvind Vasa\\Downloads\\archive (1)\\data.csv')\n",
    "data.head()"
   ]
  },
  {
   "cell_type": "code",
   "execution_count": 13,
   "id": "610963ae",
   "metadata": {},
   "outputs": [
    {
     "name": "stdout",
     "output_type": "stream",
     "text": [
      "<class 'pandas.core.frame.DataFrame'>\n",
      "RangeIndex: 4600 entries, 0 to 4599\n",
      "Data columns (total 15 columns):\n",
      " #   Column         Non-Null Count  Dtype  \n",
      "---  ------         --------------  -----  \n",
      " 0   price          4600 non-null   float64\n",
      " 1   bedrooms       4600 non-null   int64  \n",
      " 2   bathrooms      4600 non-null   float64\n",
      " 3   sqft_living    4600 non-null   int64  \n",
      " 4   sqft_lot       4600 non-null   int64  \n",
      " 5   floors         4600 non-null   float64\n",
      " 6   waterfront     4600 non-null   int64  \n",
      " 7   view           4600 non-null   int64  \n",
      " 8   condition      4600 non-null   int64  \n",
      " 9   sqft_above     4600 non-null   int64  \n",
      " 10  sqft_basement  4600 non-null   int64  \n",
      " 11  yr_built       4600 non-null   int64  \n",
      " 12  yr_renovated   4600 non-null   int64  \n",
      " 13  city           4600 non-null   object \n",
      " 14  country        4600 non-null   object \n",
      "dtypes: float64(3), int64(10), object(2)\n",
      "memory usage: 539.2+ KB\n"
     ]
    }
   ],
   "source": [
    "data.info()"
   ]
  },
  {
   "cell_type": "code",
   "execution_count": 14,
   "id": "2769af7e",
   "metadata": {},
   "outputs": [
    {
     "data": {
      "text/plain": [
       "(4600, 15)"
      ]
     },
     "execution_count": 14,
     "metadata": {},
     "output_type": "execute_result"
    }
   ],
   "source": [
    "data.shape"
   ]
  },
  {
   "cell_type": "code",
   "execution_count": 21,
   "id": "780bb316",
   "metadata": {
    "scrolled": true
   },
   "outputs": [
    {
     "data": {
      "text/plain": [
       "array(['Shoreline', 'Seattle', 'Kent', 'Bellevue', 'Redmond',\n",
       "       'Maple Valley', 'North Bend', 'Lake Forest Park', 'Sammamish',\n",
       "       'Auburn', 'Des Moines', 'Bothell', 'Federal Way', 'Kirkland',\n",
       "       'Issaquah', 'Woodinville', 'Normandy Park', 'Fall City', 'Renton',\n",
       "       'Carnation', 'Snoqualmie', 'Duvall', 'Burien', 'Covington',\n",
       "       'Inglewood-Finn Hill', 'Kenmore', 'Newcastle', 'Mercer Island',\n",
       "       'Black Diamond', 'Ravensdale', 'Clyde Hill', 'Algona', 'Skykomish',\n",
       "       'Tukwila', 'Vashon', 'Yarrow Point', 'SeaTac', 'Medina',\n",
       "       'Enumclaw', 'Snoqualmie Pass', 'Pacific', 'Beaux Arts Village',\n",
       "       'Preston', 'Milton'], dtype=object)"
      ]
     },
     "execution_count": 21,
     "metadata": {},
     "output_type": "execute_result"
    }
   ],
   "source": [
    "data['city'].unique()"
   ]
  },
  {
   "cell_type": "code",
   "execution_count": 22,
   "id": "3219aa13",
   "metadata": {},
   "outputs": [
    {
     "data": {
      "text/plain": [
       "array(['USA'], dtype=object)"
      ]
     },
     "execution_count": 22,
     "metadata": {},
     "output_type": "execute_result"
    }
   ],
   "source": [
    "data['country'].unique()"
   ]
  },
  {
   "cell_type": "code",
   "execution_count": 24,
   "id": "fb508812",
   "metadata": {},
   "outputs": [],
   "source": [
    "data.drop('country', axis=1, inplace= True)"
   ]
  },
  {
   "cell_type": "code",
   "execution_count": 15,
   "id": "5774b742",
   "metadata": {},
   "outputs": [
    {
     "data": {
      "text/plain": [
       "price            0\n",
       "bedrooms         0\n",
       "bathrooms        0\n",
       "sqft_living      0\n",
       "sqft_lot         0\n",
       "floors           0\n",
       "waterfront       0\n",
       "view             0\n",
       "condition        0\n",
       "sqft_above       0\n",
       "sqft_basement    0\n",
       "yr_built         0\n",
       "yr_renovated     0\n",
       "city             0\n",
       "country          0\n",
       "dtype: int64"
      ]
     },
     "execution_count": 15,
     "metadata": {},
     "output_type": "execute_result"
    }
   ],
   "source": [
    "data.isnull().sum()"
   ]
  },
  {
   "cell_type": "code",
   "execution_count": 18,
   "id": "9f2418b1",
   "metadata": {},
   "outputs": [
    {
     "data": {
      "image/png": "[encoded data removed]",
      "text/plain": [
       "<Figure size 640x480 with 1 Axes>"
      ]
     },
     "metadata": {},
     "output_type": "display_data"
    },
    {
     "data": {
      "image/png": "[encoded data removed]",
      "text/plain": [
       "<Figure size 640x480 with 1 Axes>"
      ]
     },
     "metadata": {},
     "output_type": "display_data"
    },
    {
     "data": {
      "image/png": "[encoded data removed]",
      "text/plain": [
       "<Figure size 640x480 with 1 Axes>"
      ]
     },
     "metadata": {},
     "output_type": "display_data"
    },
    {
     "data": {
      "image/png": "[encoded data removed]",
      "text/plain": [
       "<Figure size 640x480 with 1 Axes>"
      ]
     },
     "metadata": {},
     "output_type": "display_data"
    },
    {
     "data": {
      "image/png": "[encoded data removed]",
      "text/plain": [
       "<Figure size 640x480 with 1 Axes>"
      ]
     },
     "metadata": {},
     "output_type": "display_data"
    },
    {
     "data": {
      "image/png": "[encoded data removed]",
      "text/plain": [
       "<Figure size 640x480 with 1 Axes>"
      ]
     },
     "metadata": {},
     "output_type": "display_data"
    },
    {
     "data": {
      "image/png": "[encoded data removed]",
      "text/plain": [
       "<Figure size 640x480 with 1 Axes>"
      ]
     },
     "metadata": {},
     "output_type": "display_data"
    },
    {
     "data": {
      "image/png": "[encoded data removed]",
      "text/plain": [
       "<Figure size 640x480 with 1 Axes>"
      ]
     },
     "metadata": {},
     "output_type": "display_data"
    },
    {
     "data": {
      "image/png": "[encoded data removed]",
      "text/plain": [
       "<Figure size 640x480 with 1 Axes>"
      ]
     },
     "metadata": {},
     "output_type": "display_data"
    }
   ],
   "source": [
    "for feature in data.select_dtypes([int, float]).drop(['price','waterfront','view','yr_renovated'], axis=1):\n",
    "    sns.boxplot(x= data[feature])\n",
    "    plt.show()"
   ]
  },
  {
   "cell_type": "code",
   "execution_count": 19,
   "id": "675367e5",
   "metadata": {},
   "outputs": [],
   "source": [
    "for feature in data.select_dtypes([int, float]).drop(['price','waterfront','view','yr_renovated'], axis=1):\n",
    "    Q1= data[feature].quantile(0.25)\n",
    "    Q3= data[feature].quantile(0.75)\n",
    "    IQR= Q3 - Q1\n",
    "    lower_limit= Q1-1.5*IQR\n",
    "    upper_limit= Q3+1.5*IQR\n",
    "    \n",
    "    data.loc[data[feature]< lower_limit, feature]= lower_limit\n",
    "    data.loc[data[feature]>upper_limit, feature]= upper_limit"
   ]
  },
  {
   "cell_type": "code",
   "execution_count": 20,
   "id": "4e467c6b",
   "metadata": {},
   "outputs": [
    {
     "data": {
      "image/png": "[encoded data removed]",
      "text/plain": [
       "<Figure size 640x480 with 1 Axes>"
      ]
     },
     "metadata": {},
     "output_type": "display_data"
    },
    {
     "data": {
      "image/png": "[encoded data removed]",
      "text/plain": [
       "<Figure size 640x480 with 1 Axes>"
      ]
     },
     "metadata": {},
     "output_type": "display_data"
    },
    {
     "data": {
      "image/png": "[encoded data removed]",
      "text/plain": [
       "<Figure size 640x480 with 1 Axes>"
      ]
     },
     "metadata": {},
     "output_type": "display_data"
    },
    {
     "data": {
      "image/png": "[encoded data removed]",
      "text/plain": [
       "<Figure size 640x480 with 1 Axes>"
      ]
     },
     "metadata": {},
     "output_type": "display_data"
    },
    {
     "data": {
      "image/png": "[encoded data removed]",
      "text/plain": [
       "<Figure size 640x480 with 1 Axes>"
      ]
     },
     "metadata": {},
     "output_type": "display_data"
    },
    {
     "data": {
      "image/png": "[encoded data removed]",
      "text/plain": [
       "<Figure size 640x480 with 1 Axes>"
      ]
     },
     "metadata": {},
     "output_type": "display_data"
    },
    {
     "data": {
      "image/png": "[encoded data removed]",
      "text/plain": [
       "<Figure size 640x480 with 1 Axes>"
      ]
     },
     "metadata": {},
     "output_type": "display_data"
    },
    {
     "data": {
      "image/png": "[encoded data removed]",
      "text/plain": [
       "<Figure size 640x480 with 1 Axes>"
      ]
     },
     "metadata": {},
     "output_type": "display_data"
    },
    {
     "data": {
      "image/png": "[encoded data removed]",
      "text/plain": [
       "<Figure size 640x480 with 1 Axes>"
      ]
     },
     "metadata": {},
     "output_type": "display_data"
    }
   ],
   "source": [
    "for feature in data.select_dtypes([int, float]).drop(['price','waterfront','view','yr_renovated'], axis=1):\n",
    "    sns.boxplot(x= data[feature])\n",
    "    plt.show()"
   ]
  },
  {
   "cell_type": "code",
   "execution_count": 25,
   "id": "14dd928b",
   "metadata": {},
   "outputs": [],
   "source": [
    "from sklearn.preprocessing import StandardScaler\n",
    "from sklearn.preprocessing import LabelEncoder"
   ]
  },
  {
   "cell_type": "markdown",
   "id": "c74affa8",
   "metadata": {},
   "source": [
    "### Label Encoding"
   ]
  },
  {
   "cell_type": "code",
   "execution_count": 26,
   "id": "07b6f39f",
   "metadata": {},
   "outputs": [],
   "source": [
    "Le= LabelEncoder()\n",
    "data['city']= Le.fit_transform(data['city'])"
   ]
  },
  {
   "cell_type": "code",
   "execution_count": 27,
   "id": "29ad1f55",
   "metadata": {},
   "outputs": [
    {
     "data": {
      "text/html": [
       "<div>\n",
       "<style scoped>\n",
       "    .dataframe tbody tr th:only-of-type {\n",
       "        vertical-align: middle;\n",
       "    }\n",
       "\n",
       "    .dataframe tbody tr th {\n",
       "        vertical-align: top;\n",
       "    }\n",
       "\n",
       "    .dataframe thead th {\n",
       "        text-align: right;\n",
       "    }\n",
       "</style>\n",
       "<table border=\"1\" class=\"dataframe\">\n",
       "  <thead>\n",
       "    <tr style=\"text-align: right;\">\n",
       "      <th></th>\n",
       "      <th>price</th>\n",
       "      <th>bedrooms</th>\n",
       "      <th>bathrooms</th>\n",
       "      <th>sqft_living</th>\n",
       "      <th>sqft_lot</th>\n",
       "      <th>floors</th>\n",
       "      <th>waterfront</th>\n",
       "      <th>view</th>\n",
       "      <th>condition</th>\n",
       "      <th>sqft_above</th>\n",
       "      <th>sqft_basement</th>\n",
       "      <th>yr_built</th>\n",
       "      <th>yr_renovated</th>\n",
       "      <th>city</th>\n",
       "    </tr>\n",
       "  </thead>\n",
       "  <tbody>\n",
       "    <tr>\n",
       "      <th>0</th>\n",
       "      <td>313000.0</td>\n",
       "      <td>3.0</td>\n",
       "      <td>1.50</td>\n",
       "      <td>1340</td>\n",
       "      <td>7912</td>\n",
       "      <td>1.5</td>\n",
       "      <td>0</td>\n",
       "      <td>0</td>\n",
       "      <td>3.0</td>\n",
       "      <td>1340</td>\n",
       "      <td>0</td>\n",
       "      <td>1955</td>\n",
       "      <td>2005</td>\n",
       "      <td>36</td>\n",
       "    </tr>\n",
       "    <tr>\n",
       "      <th>1</th>\n",
       "      <td>2384000.0</td>\n",
       "      <td>5.0</td>\n",
       "      <td>2.50</td>\n",
       "      <td>3650</td>\n",
       "      <td>9050</td>\n",
       "      <td>2.0</td>\n",
       "      <td>0</td>\n",
       "      <td>4</td>\n",
       "      <td>5.0</td>\n",
       "      <td>3370</td>\n",
       "      <td>280</td>\n",
       "      <td>1921</td>\n",
       "      <td>0</td>\n",
       "      <td>35</td>\n",
       "    </tr>\n",
       "    <tr>\n",
       "      <th>2</th>\n",
       "      <td>342000.0</td>\n",
       "      <td>3.0</td>\n",
       "      <td>2.00</td>\n",
       "      <td>1930</td>\n",
       "      <td>11947</td>\n",
       "      <td>1.0</td>\n",
       "      <td>0</td>\n",
       "      <td>0</td>\n",
       "      <td>4.0</td>\n",
       "      <td>1930</td>\n",
       "      <td>0</td>\n",
       "      <td>1966</td>\n",
       "      <td>0</td>\n",
       "      <td>18</td>\n",
       "    </tr>\n",
       "    <tr>\n",
       "      <th>3</th>\n",
       "      <td>420000.0</td>\n",
       "      <td>3.0</td>\n",
       "      <td>2.25</td>\n",
       "      <td>2000</td>\n",
       "      <td>8030</td>\n",
       "      <td>1.0</td>\n",
       "      <td>0</td>\n",
       "      <td>0</td>\n",
       "      <td>4.0</td>\n",
       "      <td>1000</td>\n",
       "      <td>1000</td>\n",
       "      <td>1963</td>\n",
       "      <td>0</td>\n",
       "      <td>3</td>\n",
       "    </tr>\n",
       "    <tr>\n",
       "      <th>4</th>\n",
       "      <td>550000.0</td>\n",
       "      <td>4.0</td>\n",
       "      <td>2.50</td>\n",
       "      <td>1940</td>\n",
       "      <td>10500</td>\n",
       "      <td>1.0</td>\n",
       "      <td>0</td>\n",
       "      <td>0</td>\n",
       "      <td>4.0</td>\n",
       "      <td>1140</td>\n",
       "      <td>800</td>\n",
       "      <td>1976</td>\n",
       "      <td>1992</td>\n",
       "      <td>31</td>\n",
       "    </tr>\n",
       "  </tbody>\n",
       "</table>\n",
       "</div>"
      ],
      "text/plain": [
       "       price  bedrooms  bathrooms  sqft_living  sqft_lot  floors  waterfront  \\\n",
       "0   313000.0       3.0       1.50         1340      7912     1.5           0   \n",
       "1  2384000.0       5.0       2.50         3650      9050     2.0           0   \n",
       "2   342000.0       3.0       2.00         1930     11947     1.0           0   \n",
       "3   420000.0       3.0       2.25         2000      8030     1.0           0   \n",
       "4   550000.0       4.0       2.50         1940     10500     1.0           0   \n",
       "\n",
       "   view  condition  sqft_above  sqft_basement  yr_built  yr_renovated  city  \n",
       "0     0        3.0        1340              0      1955          2005    36  \n",
       "1     4        5.0        3370            280      1921             0    35  \n",
       "2     0        4.0        1930              0      1966             0    18  \n",
       "3     0        4.0        1000           1000      1963             0     3  \n",
       "4     0        4.0        1140            800      1976          1992    31  "
      ]
     },
     "execution_count": 27,
     "metadata": {},
     "output_type": "execute_result"
    }
   ],
   "source": [
    "data.head()"
   ]
  },
  {
   "cell_type": "markdown",
   "id": "131eba3a",
   "metadata": {},
   "source": [
    "### Data Splitting"
   ]
  },
  {
   "cell_type": "code",
   "execution_count": 33,
   "id": "8c6d8474",
   "metadata": {},
   "outputs": [],
   "source": [
    "from sklearn.model_selection import train_test_split"
   ]
  },
  {
   "cell_type": "code",
   "execution_count": 34,
   "id": "23a2b7c7",
   "metadata": {},
   "outputs": [],
   "source": [
    "X= data.drop('price', axis=1)\n",
    "y= data['price']"
   ]
  },
  {
   "cell_type": "markdown",
   "id": "cc711c2f",
   "metadata": {},
   "source": [
    "### Scaling data"
   ]
  },
  {
   "cell_type": "code",
   "execution_count": 37,
   "id": "9f2639ce",
   "metadata": {},
   "outputs": [],
   "source": [
    "scaler= StandardScaler()\n",
    "x_scaled= pd.DataFrame(scaler.fit_transform(X), columns=X.columns)"
   ]
  },
  {
   "cell_type": "code",
   "execution_count": 38,
   "id": "2071e21f",
   "metadata": {},
   "outputs": [
    {
     "data": {
      "text/html": [
       "<div>\n",
       "<style scoped>\n",
       "    .dataframe tbody tr th:only-of-type {\n",
       "        vertical-align: middle;\n",
       "    }\n",
       "\n",
       "    .dataframe tbody tr th {\n",
       "        vertical-align: top;\n",
       "    }\n",
       "\n",
       "    .dataframe thead th {\n",
       "        text-align: right;\n",
       "    }\n",
       "</style>\n",
       "<table border=\"1\" class=\"dataframe\">\n",
       "  <thead>\n",
       "    <tr style=\"text-align: right;\">\n",
       "      <th></th>\n",
       "      <th>bedrooms</th>\n",
       "      <th>bathrooms</th>\n",
       "      <th>sqft_living</th>\n",
       "      <th>sqft_lot</th>\n",
       "      <th>floors</th>\n",
       "      <th>waterfront</th>\n",
       "      <th>view</th>\n",
       "      <th>condition</th>\n",
       "      <th>sqft_above</th>\n",
       "      <th>sqft_basement</th>\n",
       "      <th>yr_built</th>\n",
       "      <th>yr_renovated</th>\n",
       "      <th>city</th>\n",
       "    </tr>\n",
       "  </thead>\n",
       "  <tbody>\n",
       "    <tr>\n",
       "      <th>0</th>\n",
       "      <td>-0.458189</td>\n",
       "      <td>-0.887141</td>\n",
       "      <td>-0.893443</td>\n",
       "      <td>-0.189845</td>\n",
       "      <td>-0.022416</td>\n",
       "      <td>-0.085004</td>\n",
       "      <td>-0.309194</td>\n",
       "      <td>-0.670178</td>\n",
       "      <td>-0.587610</td>\n",
       "      <td>-0.696559</td>\n",
       "      <td>-0.531014</td>\n",
       "      <td>1.221670</td>\n",
       "      <td>0.861805</td>\n",
       "    </tr>\n",
       "    <tr>\n",
       "      <th>1</th>\n",
       "      <td>1.875885</td>\n",
       "      <td>0.500844</td>\n",
       "      <td>1.770878</td>\n",
       "      <td>0.021384</td>\n",
       "      <td>0.906555</td>\n",
       "      <td>-0.085004</td>\n",
       "      <td>4.830079</td>\n",
       "      <td>2.292645</td>\n",
       "      <td>1.948111</td>\n",
       "      <td>-0.057998</td>\n",
       "      <td>-1.674693</td>\n",
       "      <td>-0.825693</td>\n",
       "      <td>0.778343</td>\n",
       "    </tr>\n",
       "    <tr>\n",
       "      <th>2</th>\n",
       "      <td>-0.458189</td>\n",
       "      <td>-0.193149</td>\n",
       "      <td>-0.212946</td>\n",
       "      <td>0.559109</td>\n",
       "      <td>-0.951388</td>\n",
       "      <td>-0.085004</td>\n",
       "      <td>-0.309194</td>\n",
       "      <td>0.811234</td>\n",
       "      <td>0.149373</td>\n",
       "      <td>-0.696559</td>\n",
       "      <td>-0.161000</td>\n",
       "      <td>-0.825693</td>\n",
       "      <td>-0.640521</td>\n",
       "    </tr>\n",
       "    <tr>\n",
       "      <th>3</th>\n",
       "      <td>-0.458189</td>\n",
       "      <td>0.153847</td>\n",
       "      <td>-0.132209</td>\n",
       "      <td>-0.167943</td>\n",
       "      <td>-0.951388</td>\n",
       "      <td>-0.085004</td>\n",
       "      <td>-0.309194</td>\n",
       "      <td>0.811234</td>\n",
       "      <td>-1.012312</td>\n",
       "      <td>1.584014</td>\n",
       "      <td>-0.261913</td>\n",
       "      <td>-0.825693</td>\n",
       "      <td>-1.892459</td>\n",
       "    </tr>\n",
       "    <tr>\n",
       "      <th>4</th>\n",
       "      <td>0.708848</td>\n",
       "      <td>0.500844</td>\n",
       "      <td>-0.201412</td>\n",
       "      <td>0.290525</td>\n",
       "      <td>-0.951388</td>\n",
       "      <td>-0.085004</td>\n",
       "      <td>-0.309194</td>\n",
       "      <td>0.811234</td>\n",
       "      <td>-0.837435</td>\n",
       "      <td>1.127899</td>\n",
       "      <td>0.175376</td>\n",
       "      <td>1.208396</td>\n",
       "      <td>0.444493</td>\n",
       "    </tr>\n",
       "  </tbody>\n",
       "</table>\n",
       "</div>"
      ],
      "text/plain": [
       "   bedrooms  bathrooms  sqft_living  sqft_lot    floors  waterfront      view  \\\n",
       "0 -0.458189  -0.887141    -0.893443 -0.189845 -0.022416   -0.085004 -0.309194   \n",
       "1  1.875885   0.500844     1.770878  0.021384  0.906555   -0.085004  4.830079   \n",
       "2 -0.458189  -0.193149    -0.212946  0.559109 -0.951388   -0.085004 -0.309194   \n",
       "3 -0.458189   0.153847    -0.132209 -0.167943 -0.951388   -0.085004 -0.309194   \n",
       "4  0.708848   0.500844    -0.201412  0.290525 -0.951388   -0.085004 -0.309194   \n",
       "\n",
       "   condition  sqft_above  sqft_basement  yr_built  yr_renovated      city  \n",
       "0  -0.670178   -0.587610      -0.696559 -0.531014      1.221670  0.861805  \n",
       "1   2.292645    1.948111      -0.057998 -1.674693     -0.825693  0.778343  \n",
       "2   0.811234    0.149373      -0.696559 -0.161000     -0.825693 -0.640521  \n",
       "3   0.811234   -1.012312       1.584014 -0.261913     -0.825693 -1.892459  \n",
       "4   0.811234   -0.837435       1.127899  0.175376      1.208396  0.444493  "
      ]
     },
     "execution_count": 38,
     "metadata": {},
     "output_type": "execute_result"
    }
   ],
   "source": [
    "x_scaled.head()"
   ]
  },
  {
   "cell_type": "markdown",
   "id": "e9938e01",
   "metadata": {},
   "source": [
    "### Model building"
   ]
  },
  {
   "cell_type": "code",
   "execution_count": 39,
   "id": "62485ba0",
   "metadata": {},
   "outputs": [],
   "source": [
    "from sklearn.linear_model import LinearRegression"
   ]
  },
  {
   "cell_type": "code",
   "execution_count": 41,
   "id": "e338e1f5",
   "metadata": {},
   "outputs": [],
   "source": [
    "x_train, x_test, y_train, y_test= train_test_split(x_scaled, y, test_size=0.2, random_state=1)"
   ]
  },
  {
   "cell_type": "code",
   "execution_count": 42,
   "id": "7670900d",
   "metadata": {},
   "outputs": [
    {
     "data": {
      "text/html": [
       "<style>#sk-container-id-1 {color: black;background-color: white;}#sk-container-id-1 pre{padding: 0;}#sk-container-id-1 div.sk-toggleable {background-color: white;}#sk-container-id-1 label.sk-toggleable__label {cursor: pointer;display: block;width: 100%;margin-bottom: 0;padding: 0.3em;box-sizing: border-box;text-align: center;}#sk-container-id-1 label.sk-toggleable__label-arrow:before {content: \"▸\";float: left;margin-right: 0.25em;color: #696969;}#sk-container-id-1 label.sk-toggleable__label-arrow:hover:before {color: black;}#sk-container-id-1 div.sk-estimator:hover label.sk-toggleable__label-arrow:before {color: black;}#sk-container-id-1 div.sk-toggleable__content {max-height: 0;max-width: 0;overflow: hidden;text-align: left;background-color: #f0f8ff;}#sk-container-id-1 div.sk-toggleable__content pre {margin: 0.2em;color: black;border-radius: 0.25em;background-color: #f0f8ff;}#sk-container-id-1 input.sk-toggleable__control:checked~div.sk-toggleable__content {max-height: 200px;max-width: 100%;overflow: auto;}#sk-container-id-1 input.sk-toggleable__control:checked~label.sk-toggleable__label-arrow:before {content: \"▾\";}#sk-container-id-1 div.sk-estimator input.sk-toggleable__control:checked~label.sk-toggleable__label {background-color: #d4ebff;}#sk-container-id-1 div.sk-label input.sk-toggleable__control:checked~label.sk-toggleable__label {background-color: #d4ebff;}#sk-container-id-1 input.sk-hidden--visually {border: 0;clip: rect(1px 1px 1px 1px);clip: rect(1px, 1px, 1px, 1px);height: 1px;margin: -1px;overflow: hidden;padding: 0;position: absolute;width: 1px;}#sk-container-id-1 div.sk-estimator {font-family: monospace;background-color: #f0f8ff;border: 1px dotted black;border-radius: 0.25em;box-sizing: border-box;margin-bottom: 0.5em;}#sk-container-id-1 div.sk-estimator:hover {background-color: #d4ebff;}#sk-container-id-1 div.sk-parallel-item::after {content: \"\";width: 100%;border-bottom: 1px solid gray;flex-grow: 1;}#sk-container-id-1 div.sk-label:hover label.sk-toggleable__label {background-color: #d4ebff;}#sk-container-id-1 div.sk-serial::before {content: \"\";position: absolute;border-left: 1px solid gray;box-sizing: border-box;top: 0;bottom: 0;left: 50%;z-index: 0;}#sk-container-id-1 div.sk-serial {display: flex;flex-direction: column;align-items: center;background-color: white;padding-right: 0.2em;padding-left: 0.2em;position: relative;}#sk-container-id-1 div.sk-item {position: relative;z-index: 1;}#sk-container-id-1 div.sk-parallel {display: flex;align-items: stretch;justify-content: center;background-color: white;position: relative;}#sk-container-id-1 div.sk-item::before, #sk-container-id-1 div.sk-parallel-item::before {content: \"\";position: absolute;border-left: 1px solid gray;box-sizing: border-box;top: 0;bottom: 0;left: 50%;z-index: -1;}#sk-container-id-1 div.sk-parallel-item {display: flex;flex-direction: column;z-index: 1;position: relative;background-color: white;}#sk-container-id-1 div.sk-parallel-item:first-child::after {align-self: flex-end;width: 50%;}#sk-container-id-1 div.sk-parallel-item:last-child::after {align-self: flex-start;width: 50%;}#sk-container-id-1 div.sk-parallel-item:only-child::after {width: 0;}#sk-container-id-1 div.sk-dashed-wrapped {border: 1px dashed gray;margin: 0 0.4em 0.5em 0.4em;box-sizing: border-box;padding-bottom: 0.4em;background-color: white;}#sk-container-id-1 div.sk-label label {font-family: monospace;font-weight: bold;display: inline-block;line-height: 1.2em;}#sk-container-id-1 div.sk-label-container {text-align: center;}#sk-container-id-1 div.sk-container {/* jupyter's `normalize.less` sets `[hidden] { display: none; }` but bootstrap.min.css set `[hidden] { display: none !important; }` so we also need the `!important` here to be able to override the default hidden behavior on the sphinx rendered scikit-learn.org. See: https://github.com/scikit-learn/scikit-learn/issues/21755 */display: inline-block !important;position: relative;}#sk-container-id-1 div.sk-text-repr-fallback {display: none;}</style><div id=\"sk-container-id-1\" class=\"sk-top-container\"><div class=\"sk-text-repr-fallback\"><pre>LinearRegression()</pre><b>In a Jupyter environment, please rerun this cell to show the HTML representation or trust the notebook. <br />On GitHub, the HTML representation is unable to render, please try loading this page with nbviewer.org.</b></div><div class=\"sk-container\" hidden><div class=\"sk-item\"><div class=\"sk-estimator sk-toggleable\"><input class=\"sk-toggleable__control sk-hidden--visually\" id=\"sk-estimator-id-1\" type=\"checkbox\" checked><label for=\"sk-estimator-id-1\" class=\"sk-toggleable__label sk-toggleable__label-arrow\">LinearRegression</label><div class=\"sk-toggleable__content\"><pre>LinearRegression()</pre></div></div></div></div></div>"
      ],
      "text/plain": [
       "LinearRegression()"
      ]
     },
     "execution_count": 42,
     "metadata": {},
     "output_type": "execute_result"
    }
   ],
   "source": [
    "LR= LinearRegression()\n",
    "LR.fit(x_train, y_train)"
   ]
  },
  {
   "cell_type": "code",
   "execution_count": 45,
   "id": "4d1ff71e",
   "metadata": {},
   "outputs": [],
   "source": [
    "y_test_pred= LR.predict(x_test)"
   ]
  },
  {
   "cell_type": "code",
   "execution_count": 47,
   "id": "def32dc2",
   "metadata": {},
   "outputs": [],
   "source": [
    "from sklearn.metrics import  r2_score"
   ]
  },
  {
   "cell_type": "code",
   "execution_count": 46,
   "id": "ba094364",
   "metadata": {},
   "outputs": [
    {
     "data": {
      "text/plain": [
       "array([ 469209.57788527,  695878.9817423 ,  268843.9011518 ,\n",
       "        704743.07954468,  805089.43027947,  620770.3817668 ,\n",
       "        267818.82371755,  303170.72563063,  437499.84565244,\n",
       "        498331.64431031,  421049.10785024,  304059.83229539,\n",
       "        323034.7678562 ,  754072.02907162,  280174.78955216,\n",
       "        564572.50511885,  605554.36155215,  473746.69278821,\n",
       "        469511.52471459,  546679.21204116,  408202.62738224,\n",
       "        588312.41828883,  643830.24993637,  242357.42413836,\n",
       "        567228.36743728,  602365.4904219 ,  271654.96544457,\n",
       "        294799.68580817,  646572.14452253,  423091.94164123,\n",
       "        484810.5051322 ,  948033.3906532 ,  284397.19534362,\n",
       "        393945.93911724,  548808.79962723,  481649.43468089,\n",
       "        234171.18885582,  496023.19686596,  723643.64023565,\n",
       "        172681.27739601,  856366.77935257,  439659.5917841 ,\n",
       "        756628.66427756,  528155.76226047,  469825.98876262,\n",
       "        595672.78049714,  552763.88946332,  726033.64988848,\n",
       "        408194.76374758,  878010.73441883, 1058252.0888252 ,\n",
       "        520330.44531397,  418504.39670634,  303092.12232751,\n",
       "        470914.67240622, 1438934.20841165,  350676.78538156,\n",
       "        283401.05469355,  388978.22763609,  674986.30138437,\n",
       "        341250.92089561,  542267.65538723,  363236.82865998,\n",
       "        902282.07378109,  298049.5744005 ,  341710.6574167 ,\n",
       "        417326.0923944 ,  409455.83398117,  414852.86889881,\n",
       "        703914.10960398,  396048.18779805,  327987.41457276,\n",
       "        658917.48785232,  302997.89807057,  555625.40548877,\n",
       "        414900.90922672,  317946.90745392,  689861.24746448,\n",
       "        453217.80051258,  670463.7816162 ,  311696.75188717,\n",
       "        400065.06850467,  323217.98815322,  664754.4233643 ,\n",
       "        588214.18933137,  683317.29882181,  854441.14409595,\n",
       "        219218.74681366,  388269.30069222,  679202.33429754,\n",
       "        420265.52093023,  320747.08384224,  311916.79553042,\n",
       "       1032075.87326627,  698008.7050179 ,  248120.3935625 ,\n",
       "        318631.26078932,  651019.51869471,  533358.56100817,\n",
       "        342601.03615983,  450543.34247469,  553346.46167334,\n",
       "        262655.26652168,  307233.90914748,  400439.50114305,\n",
       "        424967.97559905,  854809.16060908,  591816.32751948,\n",
       "        396732.26757307,  767305.57924956, 1060328.53629906,\n",
       "        478579.46671334,  810281.44032323,  508129.15462945,\n",
       "        629235.31616108,  597728.45710883,  295458.53903915,\n",
       "        706287.13367234,  528957.46066556, 1048502.27715236,\n",
       "        532328.62833745,  378309.35618642,  321500.50018153,\n",
       "        523283.89954288,  998092.80503777,  315497.27648759,\n",
       "        495350.76238959,  613907.73686619,  511676.59619314,\n",
       "        376449.06443778,  695504.16169091,  404407.36216816,\n",
       "        368695.64798964,  506323.46779608,  853485.20864305,\n",
       "        847919.19275265,  889386.38551123,  387639.07526744,\n",
       "        292618.69077941,  483423.05423311, 1409689.70248088,\n",
       "        271628.26479573, 1031270.16725525,  423279.29661464,\n",
       "        614416.29062642,  448568.33168055,  460262.13637289,\n",
       "        664262.75834186,  714061.54334231,  648650.37502237,\n",
       "       1155440.3688343 ,  353280.53431079,  552995.56766471,\n",
       "        441531.92550568,  856199.41534759,  600044.21159345,\n",
       "        633704.52232213,  602237.90764799,  736093.41904593,\n",
       "        603061.21281856,  378445.18037766, 1825786.44587937,\n",
       "        364518.175364  ,  253271.89519027,  637526.81191674,\n",
       "        539703.12535023,  725516.70361736,  726384.69021789,\n",
       "        432277.61583469,  835280.8850791 ,  917642.62060703,\n",
       "        498707.64239706,  665520.1970724 ,  715402.57646631,\n",
       "        344969.98069586,  667355.62900087,  940804.51097539,\n",
       "        725685.34039827,  530504.41297903,  481047.8274135 ,\n",
       "        350260.93295277,  669415.16629141,  378419.84302099,\n",
       "        325151.78479068,  731610.81909578,  798778.62135687,\n",
       "       1509232.29616677,  786857.91629465,  630502.6977821 ,\n",
       "        792934.77563078,  308169.51952521,  633832.08354339,\n",
       "        363622.979507  ,  279531.10597879,  520542.1550754 ,\n",
       "        309017.12808209, 1129557.39536245,  323926.16167611,\n",
       "        563653.49279383,  509490.89181852,  603027.93152564,\n",
       "        830827.90515979,  812800.84095466,  655141.41060124,\n",
       "        526503.18872937,  841089.79649216,  409161.52160481,\n",
       "        229788.98076732,  354555.61452121,  397726.43130177,\n",
       "        289378.85195147,  572586.60655677,  763134.7067972 ,\n",
       "         48679.85479247,  334769.38813768,  290215.90906141,\n",
       "        708722.36526355, 1607960.90188583,  393673.76938193,\n",
       "        647385.70210384,  624773.6567029 ,  366929.20196095,\n",
       "        807246.46324832,  328338.33417197,  511881.36102122,\n",
       "        258137.52896867,  488998.9124292 ,  425937.79888374,\n",
       "        248647.79749622,  603965.35454196,  320752.62445611,\n",
       "        563328.72098882,  491504.5126027 ,  274379.94344984,\n",
       "        646146.34254299,  384016.53108094,  475741.66358581,\n",
       "       1019146.3103579 ,  758028.79467859,  765223.77536568,\n",
       "        508618.26128495,  305982.71093753,  533993.25436926,\n",
       "        680645.8640737 ,  488910.71932538,  709396.71679223,\n",
       "        444399.54673926,  409894.93062336,  249692.73574638,\n",
       "        949211.41518188,  410032.39729533,  281830.69927571,\n",
       "        320309.86439572,  351378.54092452, 1071495.2589531 ,\n",
       "       1048765.31795599,  626683.44121674,  328284.1274644 ,\n",
       "        446063.22833583,  259750.84719446,  617512.98611916,\n",
       "        428877.76527545,  634050.92772768,  547197.29572601,\n",
       "        363682.00790324,  192089.20644284,  308199.49586765,\n",
       "        824785.93176215,  408418.99457297,  617377.28703425,\n",
       "        746316.28212852,  420555.60859547,  309262.49725263,\n",
       "        320741.83955062,  344824.63529951,  772501.24227299,\n",
       "        335593.516132  ,  558715.56658561,  479562.26656164,\n",
       "        594110.3046159 ,  258782.99762099,  236410.34793909,\n",
       "        999209.34858537,  581834.4283852 ,  239454.77825448,\n",
       "        226052.2177969 ,  612338.25954526,  917420.88898974,\n",
       "        292873.18139432,  589802.72458828,  286249.42087376,\n",
       "        850412.36519058,  217950.75520704,  766213.74596513,\n",
       "        483877.83048401,  409326.14228576,  628919.91174891,\n",
       "        554581.68498448,  454805.88745107,  735470.73215884,\n",
       "        636447.87366689,  779249.64766764,  533385.25169484,\n",
       "        519604.81227108,  204728.09910545,  551226.71833457,\n",
       "        787146.92129712,  508465.75838616,  648515.48477815,\n",
       "        520577.82933336,  296755.960871  ,  747754.32092054,\n",
       "        604260.09654591,  570075.2121572 ,  757175.82844569,\n",
       "        483238.76749991,  928581.36801801,  543044.76240494,\n",
       "        207355.81955796,  440491.67679228,  749077.96542098,\n",
       "        217601.28321832, 1011454.13012798,  509745.92096044,\n",
       "        804681.24017599,  549736.42210146,  371947.27126265,\n",
       "        591524.74409703,  402762.43177979,  557099.72235013,\n",
       "        668136.23074595,  953919.24599258,  955454.7765967 ,\n",
       "        723355.48141572,  320163.01525741,  677665.89459631,\n",
       "         84818.32923398,  541605.2060664 ,  472238.0879583 ,\n",
       "        470548.52812016,  318410.74795372,  586348.9616645 ,\n",
       "        861663.61090879,  282792.44686213,  682996.48340057,\n",
       "        999120.22652291, 1575256.66956279,  403502.14748995,\n",
       "        343495.96066542,  379005.31784121,  617997.98392585,\n",
       "        590805.62620446,  642960.70728504, 1134112.80701663,\n",
       "        350355.81318729,  419171.93091771,  594671.73480381,\n",
       "        366178.60641315,  561533.38632927,  342839.82603619,\n",
       "        286014.61249522, 1197674.01517152,  633008.4271655 ,\n",
       "        145948.71454743,  530666.97617387,  402027.22037097,\n",
       "        183117.93888514,  393222.71468064,  260019.86972126,\n",
       "        611960.08537742,  409772.75873493,  497890.6059745 ,\n",
       "        454799.17311448,  603700.43722591,  531798.29922311,\n",
       "        837327.57707697,  228141.35711064,  326587.14898475,\n",
       "        635364.64266658,  641658.9521289 ,  345121.95561168,\n",
       "        486065.68231087,  924340.82000709,  611506.41291381,\n",
       "        430326.24044095,  496375.46560595,  401739.50586099,\n",
       "       1007935.10320733,  617333.63869103,  203271.05709304,\n",
       "        378361.31308782,  284684.89470624,  763180.30057838,\n",
       "        634542.34951806,  498694.42881256,  351939.00962144,\n",
       "        631289.37706178,  286821.0714892 , 1588467.45546682,\n",
       "        625145.1598048 ,  364421.50906762,  663961.9618987 ,\n",
       "        470845.14731287,  680165.40645136,  450222.9273364 ,\n",
       "       1028933.10195214,  502517.71226389,  775676.38411306,\n",
       "        424260.83088707,  390660.9553449 ,  414245.19834687,\n",
       "        764025.90073932,  532372.81988335,  199887.95728181,\n",
       "        579812.35948971,  436129.35237445,  859575.88803906,\n",
       "        465799.42922621,  484068.10907228,  131199.11001882,\n",
       "        336543.98135613,  636617.14383881,  551675.3717664 ,\n",
       "        368372.67140535,  670043.05065746, 1239972.73727579,\n",
       "        420768.84471131,  389098.18820129,  642218.38995665,\n",
       "        317606.83305093,  867950.5207472 ,  439355.76323945,\n",
       "        689261.57336616,  628170.85571217,  468899.77005564,\n",
       "        865900.57482504,  334356.02165538,  861193.78755891,\n",
       "        264015.27823942,  494956.58913965,  343310.53669451,\n",
       "        398538.17775038,  412982.49835445,  309103.12922972,\n",
       "        929285.53960485,  688641.22348984,  249179.8445294 ,\n",
       "        439624.24595168,  722495.93941729,  579675.51679642,\n",
       "        539879.19349729,  270985.69065002,  594436.20433073,\n",
       "        420083.10033546,  324260.67144784,  413808.81972998,\n",
       "        327331.47333879,  680646.10485082,  872367.54946684,\n",
       "        722241.02750114,  501677.06855486,  223265.59189639,\n",
       "       1573821.98714576,  480107.54223667,  452692.55394716,\n",
       "        422063.12502297,  680938.37910337,  275784.36811864,\n",
       "        347909.37985657,  207901.13987751,  361732.03069543,\n",
       "        422860.01091174,  307811.96763581,  458348.16682223,\n",
       "        402210.38134733, 1047794.54082541,  426592.69573956,\n",
       "        866546.88160949,  673624.6795488 ,  705822.54975818,\n",
       "        733707.76809587,  451815.73750384,  184401.79100299,\n",
       "        540645.96919735,  407811.77235239,  659591.83664648,\n",
       "       1753467.44805726,  154050.82395591,  420808.02212455,\n",
       "        671649.56935831,  570065.98881788,  233493.53288283,\n",
       "        275099.75502308,  637401.89750253,  419916.30094588,\n",
       "        399500.17663539,  512756.19860646,  601358.56488692,\n",
       "        704477.46200683,  219373.69426203,  319001.93619116,\n",
       "        227147.85547893,  222705.44264561,  628438.303872  ,\n",
       "        549942.93475588,  646064.17441773,  499224.54276636,\n",
       "        357211.89641393,  618491.80116544,  734140.53007116,\n",
       "        493759.05906148,  733082.48098976,  490064.33395285,\n",
       "        792640.50721115,  515362.2907786 ,  279850.49034626,\n",
       "        443530.87121088, 1615352.73754069,  496506.85395501,\n",
       "        675946.89623152,  627419.75752484,  599456.77929933,\n",
       "        567957.60932489,  230244.11737844,  394145.58570007,\n",
       "        346607.74218848,  772318.01559792,  696627.82947323,\n",
       "        651107.3118377 ,  501243.91104055,  381261.18655794,\n",
       "        258388.87073295,  254075.09981583,  432085.9568223 ,\n",
       "        503429.49854721,  429349.90347645,  429418.96804875,\n",
       "        708839.12532246,  498905.32820907, 1688132.82840185,\n",
       "        395905.121405  ,  410054.71198858,  989087.69159344,\n",
       "        283189.93316466,  366571.08781431,  517182.22278688,\n",
       "        501850.22668822,  488962.30678979, 1126644.26041786,\n",
       "        686155.82846528,  658369.39188735,  468504.87307368,\n",
       "        452042.62925015,  609740.3510114 ,  574327.67145959,\n",
       "        890247.05190065,  544753.60164514, 1436380.85621518,\n",
       "        529868.4638429 ,  428571.93724279,  731481.9803009 ,\n",
       "        594974.84511732,  712020.56784541,  352067.16924495,\n",
       "        318589.48948011,  722566.50822584,  319101.65518824,\n",
       "        505384.78729007,  429940.9359031 ,  505521.96289618,\n",
       "        557246.65745142,  878035.63122399,  515404.63198137,\n",
       "        752539.79120364,  457316.14799577,  546227.3351958 ,\n",
       "        558567.70605752,  781089.39269842,  930493.35951094,\n",
       "        658563.50330612,  432337.66950632,  442126.48851903,\n",
       "        631022.90727191,  317240.90437277,  454886.62507966,\n",
       "        908156.40186931,  561089.87356517,  262217.1762727 ,\n",
       "        814992.22619914, 1721684.88152832,  716062.5039209 ,\n",
       "        524301.97466968,  421324.51479514,  481722.63920731,\n",
       "       1626955.3514675 ,  710904.7094105 ,  435178.49517116,\n",
       "        450695.34575346,  429345.24840704,  593027.86522089,\n",
       "        979016.36014452,  189010.0558033 ,  516185.01309098,\n",
       "        702900.080781  , 1475383.39105083, 1172579.33891953,\n",
       "        622832.83997708,  261170.74183882,  599114.33393023,\n",
       "       1015712.7866098 ,  300965.61864653,  577853.23932083,\n",
       "        466015.97038631,  538861.90226694,  319266.49448078,\n",
       "        378797.73703363,  604966.63730626,  205926.24154783,\n",
       "        730282.56113753,  667639.53303536,  392171.79395879,\n",
       "        921772.48009435,  259412.40607117,  864890.2261448 ,\n",
       "        671332.81213599,  393875.36962362,  547713.88348013,\n",
       "        428089.0122    ,  426475.93589479,  949891.76332421,\n",
       "        885723.6088158 ,  365220.70873167,  445904.93473547,\n",
       "       1378152.42804322,  419309.2430684 ,  389956.52873816,\n",
       "        931417.64984904,  787148.34307077, 1251127.07966757,\n",
       "        970915.92609562,  819361.58423164,  475179.98653479,\n",
       "        508780.45310342,  918068.73711668,  269128.85078612,\n",
       "        899979.70719193,  465163.84546565,  283837.67720436,\n",
       "        607133.31485637,  715792.44553505,  290660.39701516,\n",
       "        364310.66983946,  783079.89754888,  406763.40757973,\n",
       "       1035327.33427734,  533456.08893953,  879154.97125868,\n",
       "        775364.81556887,  219829.32463982,  730316.49363326,\n",
       "        539946.66461288,  639747.54843151,  279261.72129034,\n",
       "        261038.20575408,  875322.24310604,  643879.06823742,\n",
       "        396111.51734905,  561088.54454564,  257761.64149155,\n",
       "        458291.43986613,  563175.14217829,  294996.68355255,\n",
       "       1210765.12822529,  500659.25507497,  263245.28759741,\n",
       "        349009.83192438,  434682.19799431,  377692.40069196,\n",
       "        660448.80359632,  603564.73913522,  562908.9404494 ,\n",
       "        481860.61053602,  375211.51608855,  394035.26021041,\n",
       "        718383.68734852,  353840.11025747,  709615.87048822,\n",
       "        616257.8811722 ,  624108.09095559,  538450.45531355,\n",
       "       1113732.71155877,  678478.23306909,  812454.28860213,\n",
       "        495839.38571267, 1227712.25058446,  551811.74974135,\n",
       "        371919.12206146,  332641.78223449,  779245.93487149,\n",
       "        235303.43518288,  346897.89031274,  683206.59324175,\n",
       "        395721.42175531,  314248.98886706,  346271.49892074,\n",
       "        389729.81079343,  327598.31993479,  150923.08211683,\n",
       "        544452.25043158, 1206547.32181943,  699378.49683373,\n",
       "        693587.10702745,  640146.91542042,  441820.47924783,\n",
       "        748654.30855428,  348490.45294323,  414571.39561672,\n",
       "        338334.86927353,  405662.32295961,  489397.51522495,\n",
       "        805477.87362946,  247815.29786066,  657524.05895082,\n",
       "        337086.92502763,  562233.56412068,  518022.67002419,\n",
       "        332379.75762795,  462004.89787675,  606502.99474675,\n",
       "        645096.91406644,  352295.04843866,  822875.19258344,\n",
       "        556146.49500564,  316436.61911047,  837835.1824804 ,\n",
       "       1120238.7390462 ,  604114.29082092,  466810.07793341,\n",
       "        617900.58585993,  578180.48016241,  559893.19002285,\n",
       "        708584.37142436,  540102.04257174,  391105.84011625,\n",
       "        408351.41413129,  192892.77521266,  739807.58657011,\n",
       "        348982.57670382,  628788.05665623,  565646.40243648,\n",
       "        310030.1498897 , 1734955.03911798,  458378.16517456,\n",
       "        440144.20774361, 1388651.08941875,  503797.39007002,\n",
       "        455114.65527151,  521091.21416443,  479574.59331574,\n",
       "        441331.59490389,  408438.99359482,  576582.36033493,\n",
       "        861153.04620125,  457148.96105613,  348317.83301014,\n",
       "        857885.50413158,  568094.8544527 ,  423840.59795669,\n",
       "        477909.14833253,  250420.79838475,  578488.98968897,\n",
       "        185126.58421924,  742569.83556863,  533218.3485783 ,\n",
       "        766873.28130501,  268260.50072174,  387876.80075987,\n",
       "        457246.51211463,  766229.68816868,  532715.23389332,\n",
       "        363734.04903776,  423010.09495871,  772548.61872819,\n",
       "       1096945.90971775,  209914.41602337,  445846.72442004,\n",
       "        539085.99790731,  804487.89968021,  351343.4063316 ,\n",
       "        742903.01741634,  311790.07953171,  430498.69104893,\n",
       "        450042.40144819,  600822.96874616,  234603.29871256,\n",
       "        355105.57837487,  773689.15658111,  636389.67987161,\n",
       "        900832.75584201,  309679.10950662,  339674.53653842,\n",
       "        161257.35559343,  315177.78756761,  320773.73153846,\n",
       "        754508.33274613,  744599.23158458,  720634.05327232,\n",
       "        713223.14800353,  431374.31970926,  561533.7490724 ,\n",
       "        453905.53247145,  543261.31378108,  923429.91271614,\n",
       "        271148.76261152,  419687.59239226,  704370.96892428,\n",
       "        516429.7636762 ,  671552.1280007 ,  429818.32920349,\n",
       "        813590.7913289 ,  463922.30193159,  366976.59029777,\n",
       "        711201.18256189,  465185.74654837,  889741.47130039,\n",
       "        390043.74187853,  761726.41035011,  376778.41049547,\n",
       "        164352.51943459,  553269.6642198 ,  425490.61634034,\n",
       "        284255.73594057,  437920.31753844,  327685.39007572,\n",
       "       1171593.03815138,  352366.60518402,  424909.9080841 ,\n",
       "        614938.49480189,  458548.3075529 ,  469554.9041377 ,\n",
       "        605210.52831288,  694991.87677058,  562967.32738843,\n",
       "        720249.24728385,  540804.89402731,  808997.1667193 ,\n",
       "        252989.86275853,  371634.68761002,  430617.69141534,\n",
       "        636444.49331208,  731937.9139269 ,  474938.0312799 ,\n",
       "        220168.4296732 ,  260622.78927308,  481122.65422034,\n",
       "        611061.70148891,  458694.74285727,  504315.20050518,\n",
       "        610378.40917476,  252539.66050021,  868553.86805625,\n",
       "        454996.05058676, 1239886.81711858,  409939.5904359 ,\n",
       "        466314.69769574,  244035.38845307,  453441.82353539,\n",
       "        473038.78234402,  470403.83870994,  747653.8883164 ,\n",
       "        604533.82580146,   81874.36374862,  620849.77026119,\n",
       "        687289.64197227,  408402.09023051,  307923.02540801,\n",
       "        440870.34362127,  408575.72041917,  516764.24814947,\n",
       "        373603.03983909,  570313.46711904,  636430.79043836,\n",
       "        505621.37235759,  627327.17916216,  686794.56956916,\n",
       "        422093.69735179,  328473.28717732,  872403.70361289,\n",
       "        639799.94135961,  532380.85773028,  642831.89417867,\n",
       "        680522.16717877,  790101.45080657,  244731.76162125,\n",
       "        673609.09320379,  145787.51539424,  280276.63906748,\n",
       "        918770.4706461 ,  400409.84650597,  630622.93011661,\n",
       "        581047.19372174,  326598.69336625,  224309.21571644,\n",
       "        300930.06924082,  517958.2140228 ,  388698.79895169,\n",
       "        432278.29875183,  820584.80074879,  337282.13268125,\n",
       "        327992.83185271,  366446.38235371, 1039042.44738259,\n",
       "        558970.83985921,  576961.7904576 ,  276027.04712733,\n",
       "        563666.50997431,  531118.19792382, 1006192.80376615,\n",
       "        567097.0573145 ,  350104.37735506])"
      ]
     },
     "execution_count": 46,
     "metadata": {},
     "output_type": "execute_result"
    }
   ],
   "source": [
    "y_test_pred"
   ]
  },
  {
   "cell_type": "code",
   "execution_count": 49,
   "id": "c5333c14",
   "metadata": {},
   "outputs": [
    {
     "data": {
      "text/plain": [
       "0.4398261734527432"
      ]
     },
     "execution_count": 49,
     "metadata": {},
     "output_type": "execute_result"
    }
   ],
   "source": [
    " r2_score(y_test, y_test_pred)"
   ]
  },
  {
   "cell_type": "code",
   "execution_count": 43,
   "id": "915584bc",
   "metadata": {},
   "outputs": [
    {
     "data": {
      "text/plain": [
       "0.4398261734527432"
      ]
     },
     "execution_count": 43,
     "metadata": {},
     "output_type": "execute_result"
    }
   ],
   "source": [
    "LR.score(x_test, y_test)"
   ]
  }
 ],
 "metadata": {
  "kernelspec": {
   "display_name": "Python 3 (ipykernel)",
   "language": "python",
   "name": "python3"
  },
  "language_info": {
   "codemirror_mode": {
    "name": "ipython",
    "version": 3
   },
   "file_extension": ".py",
   "mimetype": "text/x-python",
   "name": "python",
   "nbconvert_exporter": "python",
   "pygments_lexer": "ipython3",
   "version": "3.10.9"
  }
 },
 "nbformat": 4,
 "nbformat_minor": 5
}
